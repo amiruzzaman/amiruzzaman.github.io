{
 "cells": [
  {
   "cell_type": "code",
   "execution_count": null,
   "id": "db02c017",
   "metadata": {},
   "outputs": [],
   "source": [
    "import os\n",
    "import requests\n",
    "from bs4 import BeautifulSoup\n",
    "from urllib.parse import urljoin\n",
    "\n",
    "# Zillow URL (Ensure you have permission)\n",
    "URL = \"https://www.zillow.com/homedetails/101-N-Bayshore-Dr-Frederica-DE-19946/444985095_zpid/\"\n",
    "\n",
    "# Headers to mimic a browser request\n",
    "HEADERS = {\n",
    "    \"User-Agent\": \"Mozilla/5.0 (Windows NT 10.0; Win64; x64) AppleWebKit/537.36 (KHTML, like Gecko) Chrome/110.0.0.0 Safari/537.36\"\n",
    "}\n",
    "\n",
    "# Create a directory for images\n",
    "SAVE_DIR = \"zillow_images\"\n",
    "os.makedirs(SAVE_DIR, exist_ok=True)\n",
    "\n",
    "def download_images(url):\n",
    "    response = requests.get(url, headers=HEADERS)\n",
    "    if response.status_code != 200:\n",
    "        print(\"Failed to fetch the page\")\n",
    "        return\n",
    "    \n",
    "    soup = BeautifulSoup(response.text, \"html.parser\")\n",
    "\n",
    "    # Find image URLs (Modify based on Zillow's actual HTML structure)\n",
    "    image_tags = soup.find_all(\"img\")\n",
    "    image_urls = [tag[\"src\"] for tag in image_tags if \"src\" in tag.attrs]\n",
    "\n",
    "    for i, img_url in enumerate(image_urls):\n",
    "        img_url = urljoin(URL, img_url)\n",
    "        try:\n",
    "            img_data = requests.get(img_url).content\n",
    "            with open(os.path.join(SAVE_DIR, f\"image_{i}.jpg\"), \"wb\") as img_file:\n",
    "                img_file.write(img_data)\n",
    "            print(f\"Downloaded: {img_url}\")\n",
    "        except Exception as e:\n",
    "            print(f\"Failed to download {img_url}: {e}\")\n",
    "\n",
    "download_images(URL)\n"
   ]
  },
  {
   "cell_type": "code",
   "execution_count": 5,
   "id": "bf97b272",
   "metadata": {},
   "outputs": [
    {
     "name": "stdout",
     "output_type": "stream",
     "text": [
      "Requirement already satisfied: bs4 in c:\\users\\mamiruzz\\appdata\\local\\programs\\python\\python38-32\\lib\\site-packages (0.0.2)\n",
      "Requirement already satisfied: beautifulsoup4 in c:\\users\\mamiruzz\\appdata\\local\\programs\\python\\python38-32\\lib\\site-packages (from bs4) (4.13.3)\n",
      "Requirement already satisfied: soupsieve>1.2 in c:\\users\\mamiruzz\\appdata\\local\\programs\\python\\python38-32\\lib\\site-packages (from beautifulsoup4->bs4) (2.6)\n",
      "Requirement already satisfied: typing-extensions>=4.0.0 in c:\\users\\mamiruzz\\appdata\\local\\programs\\python\\python38-32\\lib\\site-packages (from beautifulsoup4->bs4) (4.12.2)\n"
     ]
    },
    {
     "name": "stderr",
     "output_type": "stream",
     "text": [
      "\n",
      "[notice] A new release of pip is available: 24.3.1 -> 25.0.1\n",
      "[notice] To update, run: python.exe -m pip install --upgrade pip\n"
     ]
    }
   ],
   "source": [
    "!pip install bs4"
   ]
  },
  {
   "cell_type": "code",
   "execution_count": 6,
   "id": "710d1a62",
   "metadata": {},
   "outputs": [
    {
     "name": "stdout",
     "output_type": "stream",
     "text": [
      "Requirement already satisfied: selenium in c:\\users\\mamiruzz\\appdata\\local\\programs\\python\\python38-32\\lib\\site-packages (4.27.1)\n",
      "Requirement already satisfied: webdriver-manager in c:\\users\\mamiruzz\\appdata\\local\\programs\\python\\python38-32\\lib\\site-packages (4.0.2)\n",
      "Requirement already satisfied: urllib3<3,>=1.26 in c:\\users\\mamiruzz\\appdata\\local\\programs\\python\\python38-32\\lib\\site-packages (from urllib3[socks]<3,>=1.26->selenium) (1.26.3)\n",
      "Requirement already satisfied: trio~=0.17 in c:\\users\\mamiruzz\\appdata\\local\\programs\\python\\python38-32\\lib\\site-packages (from selenium) (0.27.0)\n",
      "Requirement already satisfied: trio-websocket~=0.9 in c:\\users\\mamiruzz\\appdata\\local\\programs\\python\\python38-32\\lib\\site-packages (from selenium) (0.12.2)\n",
      "Requirement already satisfied: certifi>=2021.10.8 in c:\\users\\mamiruzz\\appdata\\local\\programs\\python\\python38-32\\lib\\site-packages (from selenium) (2025.1.31)\n",
      "Requirement already satisfied: typing_extensions~=4.9 in c:\\users\\mamiruzz\\appdata\\local\\programs\\python\\python38-32\\lib\\site-packages (from selenium) (4.12.2)\n",
      "Requirement already satisfied: websocket-client~=1.8 in c:\\users\\mamiruzz\\appdata\\local\\programs\\python\\python38-32\\lib\\site-packages (from selenium) (1.8.0)\n",
      "Requirement already satisfied: requests in c:\\users\\mamiruzz\\appdata\\local\\programs\\python\\python38-32\\lib\\site-packages (from webdriver-manager) (2.25.1)\n",
      "Requirement already satisfied: python-dotenv in c:\\users\\mamiruzz\\appdata\\local\\programs\\python\\python38-32\\lib\\site-packages (from webdriver-manager) (1.0.1)\n",
      "Requirement already satisfied: packaging in c:\\users\\mamiruzz\\appdata\\local\\programs\\python\\python38-32\\lib\\site-packages (from webdriver-manager) (21.2)\n",
      "Requirement already satisfied: attrs>=23.2.0 in c:\\users\\mamiruzz\\appdata\\local\\programs\\python\\python38-32\\lib\\site-packages (from trio~=0.17->selenium) (25.1.0)\n",
      "Requirement already satisfied: sortedcontainers in c:\\users\\mamiruzz\\appdata\\local\\programs\\python\\python38-32\\lib\\site-packages (from trio~=0.17->selenium) (2.4.0)\n",
      "Requirement already satisfied: idna in c:\\users\\mamiruzz\\appdata\\local\\programs\\python\\python38-32\\lib\\site-packages (from trio~=0.17->selenium) (2.10)\n",
      "Requirement already satisfied: outcome in c:\\users\\mamiruzz\\appdata\\local\\programs\\python\\python38-32\\lib\\site-packages (from trio~=0.17->selenium) (1.3.0.post0)\n",
      "Requirement already satisfied: sniffio>=1.3.0 in c:\\users\\mamiruzz\\appdata\\local\\programs\\python\\python38-32\\lib\\site-packages (from trio~=0.17->selenium) (1.3.1)\n",
      "Requirement already satisfied: cffi>=1.14 in c:\\users\\mamiruzz\\appdata\\local\\programs\\python\\python38-32\\lib\\site-packages (from trio~=0.17->selenium) (1.15.0)\n",
      "Requirement already satisfied: exceptiongroup in c:\\users\\mamiruzz\\appdata\\local\\programs\\python\\python38-32\\lib\\site-packages (from trio~=0.17->selenium) (1.1.3)\n",
      "Requirement already satisfied: wsproto>=0.14 in c:\\users\\mamiruzz\\appdata\\local\\programs\\python\\python38-32\\lib\\site-packages (from trio-websocket~=0.9->selenium) (1.2.0)\n",
      "Requirement already satisfied: PySocks!=1.5.7,<2.0,>=1.5.6 in c:\\users\\mamiruzz\\appdata\\local\\programs\\python\\python38-32\\lib\\site-packages (from urllib3[socks]<3,>=1.26->selenium) (1.7.1)\n",
      "Requirement already satisfied: pyparsing<3,>=2.0.2 in c:\\users\\mamiruzz\\appdata\\local\\programs\\python\\python38-32\\lib\\site-packages (from packaging->webdriver-manager) (2.4.7)\n",
      "Requirement already satisfied: chardet<5,>=3.0.2 in c:\\users\\mamiruzz\\appdata\\local\\programs\\python\\python38-32\\lib\\site-packages (from requests->webdriver-manager) (4.0.0)\n",
      "Requirement already satisfied: pycparser in c:\\users\\mamiruzz\\appdata\\local\\programs\\python\\python38-32\\lib\\site-packages (from cffi>=1.14->trio~=0.17->selenium) (2.21)\n",
      "Requirement already satisfied: h11<1,>=0.9.0 in c:\\users\\mamiruzz\\appdata\\local\\programs\\python\\python38-32\\lib\\site-packages (from wsproto>=0.14->trio-websocket~=0.9->selenium) (0.14.0)\n"
     ]
    },
    {
     "name": "stderr",
     "output_type": "stream",
     "text": [
      "\n",
      "[notice] A new release of pip is available: 24.3.1 -> 25.0.1\n",
      "[notice] To update, run: python.exe -m pip install --upgrade pip\n"
     ]
    }
   ],
   "source": [
    "!pip install selenium webdriver-manager"
   ]
  },
  {
   "cell_type": "code",
   "execution_count": 8,
   "id": "012ff89f",
   "metadata": {},
   "outputs": [
    {
     "name": "stdout",
     "output_type": "stream",
     "text": [
      "Requirement already satisfied: typing_extensions in c:\\users\\mamiruzz\\appdata\\local\\programs\\python\\python38-32\\lib\\site-packages (4.12.2)\n"
     ]
    },
    {
     "name": "stderr",
     "output_type": "stream",
     "text": [
      "\n",
      "[notice] A new release of pip is available: 24.3.1 -> 25.0.1\n",
      "[notice] To update, run: python.exe -m pip install --upgrade pip\n"
     ]
    }
   ],
   "source": [
    "!pip install --upgrade typing_extensions"
   ]
  },
  {
   "cell_type": "code",
   "execution_count": 9,
   "id": "2291dc0c",
   "metadata": {},
   "outputs": [
    {
     "name": "stdout",
     "output_type": "stream",
     "text": [
      "Requirement already satisfied: selenium in c:\\users\\mamiruzz\\appdata\\local\\programs\\python\\python38-32\\lib\\site-packages (4.27.1)\n",
      "Requirement already satisfied: webdriver-manager in c:\\users\\mamiruzz\\appdata\\local\\programs\\python\\python38-32\\lib\\site-packages (4.0.2)\n",
      "Requirement already satisfied: urllib3<3,>=1.26 in c:\\users\\mamiruzz\\appdata\\local\\programs\\python\\python38-32\\lib\\site-packages (from urllib3[socks]<3,>=1.26->selenium) (1.26.3)\n",
      "Requirement already satisfied: trio~=0.17 in c:\\users\\mamiruzz\\appdata\\local\\programs\\python\\python38-32\\lib\\site-packages (from selenium) (0.27.0)\n",
      "Requirement already satisfied: trio-websocket~=0.9 in c:\\users\\mamiruzz\\appdata\\local\\programs\\python\\python38-32\\lib\\site-packages (from selenium) (0.12.2)\n",
      "Requirement already satisfied: certifi>=2021.10.8 in c:\\users\\mamiruzz\\appdata\\local\\programs\\python\\python38-32\\lib\\site-packages (from selenium) (2025.1.31)\n",
      "Requirement already satisfied: typing_extensions~=4.9 in c:\\users\\mamiruzz\\appdata\\local\\programs\\python\\python38-32\\lib\\site-packages (from selenium) (4.12.2)\n",
      "Requirement already satisfied: websocket-client~=1.8 in c:\\users\\mamiruzz\\appdata\\local\\programs\\python\\python38-32\\lib\\site-packages (from selenium) (1.8.0)\n",
      "Requirement already satisfied: requests in c:\\users\\mamiruzz\\appdata\\local\\programs\\python\\python38-32\\lib\\site-packages (from webdriver-manager) (2.25.1)\n",
      "Requirement already satisfied: python-dotenv in c:\\users\\mamiruzz\\appdata\\local\\programs\\python\\python38-32\\lib\\site-packages (from webdriver-manager) (1.0.1)\n",
      "Requirement already satisfied: packaging in c:\\users\\mamiruzz\\appdata\\local\\programs\\python\\python38-32\\lib\\site-packages (from webdriver-manager) (21.2)\n",
      "Requirement already satisfied: attrs>=23.2.0 in c:\\users\\mamiruzz\\appdata\\local\\programs\\python\\python38-32\\lib\\site-packages (from trio~=0.17->selenium) (25.1.0)\n",
      "Requirement already satisfied: sortedcontainers in c:\\users\\mamiruzz\\appdata\\local\\programs\\python\\python38-32\\lib\\site-packages (from trio~=0.17->selenium) (2.4.0)\n",
      "Requirement already satisfied: idna in c:\\users\\mamiruzz\\appdata\\local\\programs\\python\\python38-32\\lib\\site-packages (from trio~=0.17->selenium) (2.10)\n",
      "Requirement already satisfied: outcome in c:\\users\\mamiruzz\\appdata\\local\\programs\\python\\python38-32\\lib\\site-packages (from trio~=0.17->selenium) (1.3.0.post0)\n",
      "Requirement already satisfied: sniffio>=1.3.0 in c:\\users\\mamiruzz\\appdata\\local\\programs\\python\\python38-32\\lib\\site-packages (from trio~=0.17->selenium) (1.3.1)\n",
      "Requirement already satisfied: cffi>=1.14 in c:\\users\\mamiruzz\\appdata\\local\\programs\\python\\python38-32\\lib\\site-packages (from trio~=0.17->selenium) (1.15.0)\n",
      "Requirement already satisfied: exceptiongroup in c:\\users\\mamiruzz\\appdata\\local\\programs\\python\\python38-32\\lib\\site-packages (from trio~=0.17->selenium) (1.1.3)\n",
      "Requirement already satisfied: wsproto>=0.14 in c:\\users\\mamiruzz\\appdata\\local\\programs\\python\\python38-32\\lib\\site-packages (from trio-websocket~=0.9->selenium) (1.2.0)\n",
      "Requirement already satisfied: PySocks!=1.5.7,<2.0,>=1.5.6 in c:\\users\\mamiruzz\\appdata\\local\\programs\\python\\python38-32\\lib\\site-packages (from urllib3[socks]<3,>=1.26->selenium) (1.7.1)\n",
      "Requirement already satisfied: pyparsing<3,>=2.0.2 in c:\\users\\mamiruzz\\appdata\\local\\programs\\python\\python38-32\\lib\\site-packages (from packaging->webdriver-manager) (2.4.7)\n",
      "Requirement already satisfied: chardet<5,>=3.0.2 in c:\\users\\mamiruzz\\appdata\\local\\programs\\python\\python38-32\\lib\\site-packages (from requests->webdriver-manager) (4.0.0)\n",
      "Requirement already satisfied: pycparser in c:\\users\\mamiruzz\\appdata\\local\\programs\\python\\python38-32\\lib\\site-packages (from cffi>=1.14->trio~=0.17->selenium) (2.21)\n",
      "Requirement already satisfied: h11<1,>=0.9.0 in c:\\users\\mamiruzz\\appdata\\local\\programs\\python\\python38-32\\lib\\site-packages (from wsproto>=0.14->trio-websocket~=0.9->selenium) (0.14.0)\n"
     ]
    },
    {
     "name": "stderr",
     "output_type": "stream",
     "text": [
      "\n",
      "[notice] A new release of pip is available: 24.3.1 -> 25.0.1\n",
      "[notice] To update, run: python.exe -m pip install --upgrade pip\n"
     ]
    }
   ],
   "source": [
    "!pip install --upgrade selenium webdriver-manager"
   ]
  },
  {
   "cell_type": "code",
   "execution_count": 1,
   "id": "50350a2c",
   "metadata": {},
   "outputs": [
    {
     "name": "stdout",
     "output_type": "stream",
     "text": [
      "Failed to fetch the webpage. Status Code: 403\n",
      "✅ Image scraping completed!\n"
     ]
    }
   ],
   "source": [
    "import os\n",
    "import requests\n",
    "from bs4 import BeautifulSoup\n",
    "\n",
    "# Zillow URL\n",
    "URL = \"https://www.zillow.com/homedetails/101-N-Bayshore-Dr-Frederica-DE-19946/444985095_zpid/\"\n",
    "\n",
    "# Set headers to mimic a browser request\n",
    "HEADERS = {\n",
    "    \"User-Agent\": \"Mozilla/5.0 (Windows NT 10.0; Win64; x64) AppleWebKit/537.36 (KHTML, like Gecko) Chrome/98.0.4758.102 Safari/537.36\"\n",
    "}\n",
    "\n",
    "# Make a request to the Zillow page\n",
    "response = requests.get(URL, headers=HEADERS)\n",
    "\n",
    "# Check if request was successful\n",
    "if response.status_code != 200:\n",
    "    print(\"Failed to fetch the webpage. Status Code:\", response.status_code)\n",
    "    exit()\n",
    "\n",
    "# Parse the page content\n",
    "soup = BeautifulSoup(response.text, \"html.parser\")\n",
    "\n",
    "# Create a folder to save images\n",
    "SAVE_DIR = \"zillow_images\"\n",
    "os.makedirs(SAVE_DIR, exist_ok=True)\n",
    "\n",
    "# Find all image elements\n",
    "image_elements = soup.find_all(\"img\")\n",
    "\n",
    "# Extract and download image URLs\n",
    "for i, img in enumerate(image_elements):\n",
    "    img_url = img.get(\"src\")\n",
    "    if img_url and img_url.startswith(\"http\"):\n",
    "        try:\n",
    "            img_data = requests.get(img_url).content\n",
    "            with open(os.path.join(SAVE_DIR, f\"image_{i}.jpg\"), \"wb\") as img_file:\n",
    "                img_file.write(img_data)\n",
    "            print(f\"Downloaded: {img_url}\")\n",
    "        except Exception as e:\n",
    "            print(f\"Failed to download {img_url}: {e}\")\n",
    "\n",
    "print(\"✅ Image scraping completed!\")\n"
   ]
  },
  {
   "cell_type": "code",
   "execution_count": 1,
   "id": "8a2831a1",
   "metadata": {},
   "outputs": [
    {
     "name": "stdout",
     "output_type": "stream",
     "text": [
      "Failed to fetch page, status code: 403\n",
      "✅ Image scraping completed!\n"
     ]
    }
   ],
   "source": [
    "import os\n",
    "import requests\n",
    "from bs4 import BeautifulSoup\n",
    "\n",
    "# Zillow URL (Ensure you have permission to scrape)\n",
    "URL = \"https://www.zillow.com/homedetails/101-N-Bayshore-Dr-Frederica-DE-19946/444985095_zpid/\"\n",
    "\n",
    "# Fake browser headers to bypass bot detection\n",
    "HEADERS = {\n",
    "    \"User-Agent\": \"Mozilla/5.0 (Windows NT 10.0; Win64; x64) AppleWebKit/537.36 (KHTML, like Gecko) Chrome/98.0.4758.102 Safari/537.36\",\n",
    "    \"Accept-Language\": \"en-US,en;q=0.9\",\n",
    "    \"Referer\": \"https://www.google.com/\",\n",
    "}\n",
    "\n",
    "# Send request\n",
    "response = requests.get(URL, headers=HEADERS)\n",
    "\n",
    "# Check if request was successful\n",
    "if response.status_code != 200:\n",
    "    print(f\"Failed to fetch page, status code: {response.status_code}\")\n",
    "    exit()\n",
    "\n",
    "# Parse HTML\n",
    "soup = BeautifulSoup(response.text, \"html.parser\")\n",
    "\n",
    "# Create a directory to save images\n",
    "SAVE_DIR = \"zillow_images\"\n",
    "os.makedirs(SAVE_DIR, exist_ok=True)\n",
    "\n",
    "# Find all images\n",
    "image_elements = soup.find_all(\"img\")\n",
    "\n",
    "# Extract and download images\n",
    "for i, img in enumerate(image_elements):\n",
    "    img_url = img.get(\"src\")\n",
    "    if img_url and img_url.startswith(\"http\"):\n",
    "        try:\n",
    "            img_data = requests.get(img_url).content\n",
    "            with open(os.path.join(SAVE_DIR, f\"image_{i}.jpg\"), \"wb\") as img_file:\n",
    "                img_file.write(img_data)\n",
    "            print(f\"Downloaded: {img_url}\")\n",
    "        except Exception as e:\n",
    "            print(f\"Failed to download {img_url}: {e}\")\n",
    "\n",
    "print(\"✅ Image scraping completed!\")\n"
   ]
  },
  {
   "cell_type": "code",
   "execution_count": 1,
   "id": "cfc2355e",
   "metadata": {},
   "outputs": [
    {
     "name": "stdout",
     "output_type": "stream",
     "text": [
      "Failed to fetch page, status code: 403\n",
      "✅ Image scraping completed!\n"
     ]
    }
   ],
   "source": [
    "import os\n",
    "import requests\n",
    "from bs4 import BeautifulSoup\n",
    "\n",
    "# Zillow URL\n",
    "URL = \"https://www.zillow.com/homedetails/101-N-Bayshore-Dr-Frederica-DE-19946/444985095_zpid/\"\n",
    "\n",
    "# Fake browser headers\n",
    "HEADERS = {\n",
    "    \"User-Agent\": \"Mozilla/5.0 (Windows NT 10.0; Win64; x64) AppleWebKit/537.36 (KHTML, like Gecko) Chrome/98.0.4758.102 Safari/537.36\",\n",
    "    \"Accept-Language\": \"en-US,en;q=0.9\",\n",
    "    \"Referer\": \"https://www.google.com/\",\n",
    "    \"Cookie\": \"your_copied_cookie_here\"  # ← Copy this from your browser\n",
    "}\n",
    "\n",
    "# Use a session for persistence\n",
    "session = requests.Session()\n",
    "session.headers.update(HEADERS)\n",
    "\n",
    "# Fetch the webpage\n",
    "response = session.get(URL)\n",
    "\n",
    "# Check for success\n",
    "if response.status_code != 200:\n",
    "    print(f\"Failed to fetch page, status code: {response.status_code}\")\n",
    "    exit()\n",
    "\n",
    "# Parse HTML\n",
    "soup = BeautifulSoup(response.text, \"html.parser\")\n",
    "\n",
    "# Create a directory to save images\n",
    "SAVE_DIR = \"zillow_images\"\n",
    "os.makedirs(SAVE_DIR, exist_ok=True)\n",
    "\n",
    "# Find all images\n",
    "image_elements = soup.find_all(\"img\")\n",
    "\n",
    "# Extract and download images\n",
    "for i, img in enumerate(image_elements):\n",
    "    img_url = img.get(\"src\")\n",
    "    if img_url and img_url.startswith(\"http\"):\n",
    "        try:\n",
    "            img_data = session.get(img_url).content\n",
    "            with open(os.path.join(SAVE_DIR, f\"image_{i}.jpg\"), \"wb\") as img_file:\n",
    "                img_file.write(img_data)\n",
    "            print(f\"Downloaded: {img_url}\")\n",
    "        except Exception as e:\n",
    "            print(f\"Failed to download {img_url}: {e}\")\n",
    "\n",
    "print(\"✅ Image scraping completed!\")\n"
   ]
  },
  {
   "cell_type": "code",
   "execution_count": null,
   "id": "161c241f",
   "metadata": {},
   "outputs": [],
   "source": []
  }
 ],
 "metadata": {
  "kernelspec": {
   "display_name": "Python 3 (ipykernel)",
   "language": "python",
   "name": "python3"
  },
  "language_info": {
   "codemirror_mode": {
    "name": "ipython",
    "version": 3
   },
   "file_extension": ".py",
   "mimetype": "text/x-python",
   "name": "python",
   "nbconvert_exporter": "python",
   "pygments_lexer": "ipython3",
   "version": "3.8.1"
  }
 },
 "nbformat": 4,
 "nbformat_minor": 5
}
