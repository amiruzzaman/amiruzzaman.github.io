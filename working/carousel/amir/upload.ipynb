{
 "cells": [
  {
   "cell_type": "code",
   "execution_count": 26,
   "id": "f7370825",
   "metadata": {},
   "outputs": [
    {
     "name": "stdout",
     "output_type": "stream",
     "text": [
      "not empty:  [{'country': 'usa', 'image': '83d5291365c24741979d333645f68598.jpg', 'note': 'note'}]\n"
     ]
    }
   ],
   "source": [
    "import json\n",
    "import os\n",
    "file_name = 'images/coins.json'\n",
    "with open(file_name, mode='r', encoding='utf-8') as feedsjson:\n",
    "    if os.stat(file_name).st_size == 0:\n",
    "        feeds = []\n",
    "        print('empty: ', feeds)\n",
    "    else:\n",
    "        feeds = json.load(feedsjson)\n",
    "        print('not empty: ', feeds)\n",
    "        if not feeds:\n",
    "            feeds = []\n",
    "            print('inside: ', feeds)"
   ]
  },
  {
   "cell_type": "code",
   "execution_count": 27,
   "id": "8e68a5f0",
   "metadata": {},
   "outputs": [
    {
     "name": "stdout",
     "output_type": "stream",
     "text": [
      "[{'country': 'usa', 'image': '83d5291365c24741979d333645f68598.jpg', 'note': 'note'}, {'country': 'usa', 'image': '888a316385814701a7f0203f4633851a.jpg', 'note': 'note'}]\n"
     ]
    }
   ],
   "source": [
    "import uuid\n",
    "cnt = 'USA'\n",
    "img = fn = str(uuid.uuid4().hex) + '.jpg'\n",
    "nt = 'note'\n",
    "with open(file_name, mode='w', encoding='utf-8') as feedsjson:\n",
    "    entry = {'country': cnt.lower(), 'image': img, 'note':nt}\n",
    "    feeds.append(entry)\n",
    "#     print(entry)\n",
    "    json.dump(feeds, feedsjson, sort_keys=True, indent=4, separators=(',', ': '))\n",
    "    print(feeds)"
   ]
  },
  {
   "cell_type": "code",
   "execution_count": null,
   "id": "4053a6c4",
   "metadata": {},
   "outputs": [],
   "source": []
  },
  {
   "cell_type": "code",
   "execution_count": null,
   "id": "a38c338b",
   "metadata": {},
   "outputs": [],
   "source": []
  }
 ],
 "metadata": {
  "kernelspec": {
   "display_name": "Python 3 (ipykernel)",
   "language": "python",
   "name": "python3"
  },
  "language_info": {
   "codemirror_mode": {
    "name": "ipython",
    "version": 3
   },
   "file_extension": ".py",
   "mimetype": "text/x-python",
   "name": "python",
   "nbconvert_exporter": "python",
   "pygments_lexer": "ipython3",
   "version": "3.10.2"
  }
 },
 "nbformat": 4,
 "nbformat_minor": 5
}
