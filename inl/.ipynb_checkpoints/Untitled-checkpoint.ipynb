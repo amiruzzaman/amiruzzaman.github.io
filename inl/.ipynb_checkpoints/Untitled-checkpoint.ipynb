{
 "cells": [
  {
   "cell_type": "code",
   "execution_count": 2,
   "metadata": {},
   "outputs": [
    {
     "name": "stderr",
     "output_type": "stream",
     "text": [
      "C:\\Users\\mamiruzz\\Anaconda3\\lib\\site-packages\\matplotlib\\figure.py:418: UserWarning: matplotlib is currently using a non-GUI backend, so cannot show the figure\n",
      "  \"matplotlib is currently using a non-GUI backend, \"\n"
     ]
    },
    {
     "data": {
      "image/png": "[encoded data removed]",
      "text/plain": [
       "<matplotlib.figure.Figure at 0x173fce8bcc0>"
      ]
     },
     "metadata": {
      "needs_background": "light"
     },
     "output_type": "display_data"
    }
   ],
   "source": [
    "# https://stackoverflow.com/questions/32295629/using-python-to-graph-student-progress\n",
    "import matplotlib.pyplot as plt\n",
    "import numpy as np\n",
    "\n",
    "students = ['steve', 'bob', 'ralph']\n",
    "progress = [\n",
    "[1, 3, 4, 4, 5],\n",
    "[2, 3, 4, 4, 5],\n",
    "[3, 3, 4, 5, 5]]\n",
    "\n",
    "(fig, ax) = plt.subplots(1, 1)\n",
    "\n",
    "# Offset lines by some fraction of one\n",
    "dx = 1.0 / len(progress)\n",
    "xoff = dx / 2.0\n",
    "for i, (name, data) in enumerate(zip(students, progress)):\n",
    "    ax.plot(np.arange(len(data)) + xoff, data, label=name, marker='o')\n",
    "    xoff += dx\n",
    "\n",
    "ax.set_xticks(np.arange(0, len(progress[0]) + 0.01, dx), minor=True)\n",
    "ax.set_xticks(np.arange(1, len(progress[0])+1))\n",
    "labels = students * len(progress[0])\n",
    "week = 1\n",
    "for i,l in enumerate(labels):\n",
    "    if l == students[1]:\n",
    "        # hack to add Week label below the second label for each block\n",
    "        labels[i] = \"%s\\nWeek %s\" % (l, week)\n",
    "        week += 1\n",
    "ax.spines['top'].set_visible(False)\n",
    "ax.spines['right'].set_visible(False)\n",
    "\n",
    "ax.set_xticklabels(labels, fontsize=8, ha='left', minor=True)\n",
    "ax.set_xticklabels([])\n",
    "ax.tick_params(which='both', direction = 'out')\n",
    "ax.tick_params(axis='x', which='major', width=4)\n",
    "ax.tick_params(axis='x', which='major', length=7)\n",
    "ax.tick_params(axis='y', which='major', width=0, length=0)\n",
    "\n",
    "ax.set_ylim(0, 6)\n",
    "ax.set_yticks(range(1, 6))\n",
    "\n",
    "ax.get_xaxis().tick_bottom()\n",
    "ax.get_yaxis().tick_left()\n",
    "\n",
    "ax.set_title(\"Student Progress\")\n",
    "\n",
    "ax.legend(loc='best')\n",
    "\n",
    "fig.show()"
   ]
  },
  {
   "cell_type": "code",
   "execution_count": null,
   "metadata": {},
   "outputs": [],
   "source": [
    "# https://thecleverprogrammer.com/2020/05/21/data-science-project-student-performance-analysis-with-machine-learning/"
   ]
  }
 ],
 "metadata": {
  "kernelspec": {
   "display_name": "Python 3",
   "language": "python",
   "name": "python3"
  },
  "language_info": {
   "codemirror_mode": {
    "name": "ipython",
    "version": 3
   },
   "file_extension": ".py",
   "mimetype": "text/x-python",
   "name": "python",
   "nbconvert_exporter": "python",
   "pygments_lexer": "ipython3",
   "version": "3.6.4"
  }
 },
 "nbformat": 4,
 "nbformat_minor": 2
}
