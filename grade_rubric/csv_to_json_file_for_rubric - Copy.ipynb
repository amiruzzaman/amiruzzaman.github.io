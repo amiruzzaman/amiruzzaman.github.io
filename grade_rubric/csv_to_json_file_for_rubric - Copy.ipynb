{
 "cells": [
  {
   "cell_type": "code",
   "execution_count": 1,
   "id": "77274cad",
   "metadata": {},
   "outputs": [],
   "source": [
    "from csv import DictReader, DictWriter\n",
    "import json\n",
    "\n",
    "def check_title(my_dict, title):\n",
    "    index = 0\n",
    "    for key, value in my_dict.items():\n",
    "        if my_dict[key][\"title\"] == title:\n",
    "            return index\n",
    "        index += 1\n",
    "    return -1\n",
    "        \n",
    "\n",
    "mydictionary = {}\n",
    "with open('A2_rubric_summer2024.csv', 'r') as infile: #, open('outfile.csv', 'w') as outfile:\n",
    "    reader = DictReader(infile)\n",
    "    index = 0\n",
    "    for row in reader:\n",
    "        title = row[\"category\"]\n",
    "        if title == \"\": break\n",
    "        find_index = check_title(mydictionary, title)\n",
    "        if find_index != -1:\n",
    "            part = \"Part \" + str(find_index)\n",
    "            mydictionary[part][\"problems\"].append({\n",
    "                \"yes\": row[\"yes\"],\n",
    "                \"no\": row[\"no\"],\n",
    "                \"point\": int(row[\"point\"])\n",
    "            })\n",
    "        else:\n",
    "            part = \"Part \" + str(index)\n",
    "            mydictionary[part] = {}\n",
    "            mydictionary[part][\"title\"] = title\n",
    "            mydictionary[part][\"problems\"] = []\n",
    "            mydictionary[part][\"problems\"].append({\n",
    "                \"yes\": row[\"yes\"],\n",
    "                \"no\": row[\"no\"],\n",
    "                \"point\": int(row[\"point\"])\n",
    "            })\n",
    "            index += 1\n",
    "    \n",
    "json.dumps(mydictionary)\n",
    "\n",
    "with open('a2summer.json', 'w', encoding='utf-8') as f:\n",
    "    json.dump(mydictionary, f, ensure_ascii=False, indent=4)"
   ]
  },
  {
   "cell_type": "code",
   "execution_count": 7,
   "id": "b34ac056",
   "metadata": {},
   "outputs": [],
   "source": [
    "# json.dumps(mydictionary)"
   ]
  },
  {
   "cell_type": "code",
   "execution_count": 12,
   "id": "18d25b5c",
   "metadata": {},
   "outputs": [],
   "source": [
    "# json.dumps(mydictionary).strip('[]').replace(']', ']]').replace('[', '[[')"
   ]
  },
  {
   "cell_type": "code",
   "execution_count": 22,
   "id": "60f7c2a5",
   "metadata": {},
   "outputs": [],
   "source": [
    "# https://jsonformatter.org/"
   ]
  },
  {
   "cell_type": "code",
   "execution_count": 5,
   "id": "c3670f42",
   "metadata": {},
   "outputs": [],
   "source": [
    "jd = json.dumps(mydictionary).strip('[]').replace(']', ']]').replace('[', '[[')"
   ]
  },
  {
   "cell_type": "code",
   "execution_count": 6,
   "id": "f9fe5bf9",
   "metadata": {},
   "outputs": [
    {
     "data": {
      "text/plain": [
       "'{\"Part 0\": {\"title\": \"Implementation\", \"problems\": [[{\"yes\": \"You have provided your README file and your implementation is accessible. \", \"no\": \"You did not provide a README file but your implementation is not accessible. \", \"point\": 5}, {\"yes\": \"You have provided a READ ONLY link to overleaf for your project report.\", \"no\": \"You did not provide a READ ONLY link to overleaf for your project report.\", \"point\": 5}]]}, \"Part 1\": {\"title\": \"Hypothesis\", \"problems\": [[{\"yes\": \"You have included hypothesis/hypotheses\", \"no\": \"We wanted to see hypothesis/hypotheses. You did not include any hypothesis/hypotheses in your report. \", \"point\": 4}, {\"yes\": \"You have justified the need for your hypothesis.\", \"no\": \"We wanted to see why the hypothesis/hypotheses needed. You could have explained how the hypothesis/hypotheses provides some insight on the results and discussions. \", \"point\": 2}]]}, \"Part 2\": {\"title\": \"NN RHC\", \"problems\": [[{\"yes\": \"You have explained why you got this result. \", \"no\": \"You did not explained why you got this result.\", \"point\": 3}, {\"yes\": \"You have included the hyperparameters and their impact on algorithmic behavior as well as hypothesize about improvements.\", \"no\": \"We want to see more on your analysis of hyperparameters and hypothesize about improvements.\", \"point\": 4}, {\"yes\": \"Nice comparison based on performance and time for backprop vs RO as well as explained the reason why backprop or RO performed better.\", \"no\": \"You need to compares performance and time for backprop vs RO and explains why backprop or RO performed better.\", \"point\": 2}]]}, \"Part 3\": {\"title\": \"NN SA\", \"problems\": [[{\"yes\": \"You have explained why you got this result. \", \"no\": \"You did not explained why you got this result.\", \"point\": 3}, {\"yes\": \"You have included the hyperparameters and their impact on algorithmic behavior as well as hypothesize about improvements.\", \"no\": \"We want to see more on your analysis of hyperparameters and hypothesize about improvements.\", \"point\": 4}, {\"yes\": \"Nice comparison based on performance and time for backprop vs RO as well as explained the reason why backprop or RO performed better.\", \"no\": \"You need to compares performance and time for backprop vs RO and explains why backprop or RO performed better.\", \"point\": 2}]]}, \"Part 4\": {\"title\": \"NN GA\", \"problems\": [[{\"yes\": \"You have explained why you got this result. \", \"no\": \"You did not explained why you got this result.\", \"point\": 3}, {\"yes\": \"You have included the hyperparameters and their impact on algorithmic behavior as well as hypothesize about improvements.\", \"no\": \"We want to see more on your analysis of hyperparameters and hypothesize about improvements.\", \"point\": 4}, {\"yes\": \"Nice comparison based on performance and time for backprop vs RO as well as explained the reason why backprop or RO performed better.\", \"no\": \"You need to compares performance and time for backprop vs RO and explains why backprop or RO performed better.\", \"point\": 2}]]}, \"Part 5\": {\"title\": \"OP justtification\", \"problems\": [[{\"yes\": \"You have explained why the problems are interesting from an ML perspective\", \"no\": \"You need to explain why the problems are interesting from an ML perspective.\", \"point\": 6}]]}, \"Part 6\": {\"title\": \"OP Problem I\", \"problems\": [[{\"yes\": \"You explained results in context by connecting back to 3 algorithm, hyperparameters, and problem selection.\", \"no\": \"You need to explain results in context by connecting back to 3 algorithm, hyperparameters, and problem selection.\", \"point\": 6}, {\"yes\": \"You did explain performance vs. iterations based on plot/table.\", \"no\": \"You did not provide plot/table to show performance vs. iterations results.\", \"point\": 3}, {\"yes\": \"You did explain performance vs. size of problem based on plot/table.\", \"no\": \"You did not provide plot/table to show performance vs. size of problem results.\", \"point\": 3}, {\"yes\": \"Nice explanation on the convergence criterion and behavior.\", \"no\": \"You will need to include the convergence criterion and behavior.\", \"point\": 3}, {\"yes\": \"Nice addition on the improvements, such as extensive hyperparameter exploration, modifying algorithm behavior, adding domain knowledge, etc.\", \"no\": \"No evidence of the improvements, such as extensive hyperparameter exploration, modifying algorithm behavior, adding domain knowledge, etc.\", \"point\": 3}, {\"yes\": \"This report shows creativity. \", \"no\": \"This report lacked creativity. \", \"point\": 4}]]}, \"Part 7\": {\"title\": \"OP Problem II\", \"problems\": [[{\"yes\": \"You explained results in context by connecting back to 3 algorithm, hyperparameters, and problem selection.\", \"no\": \"You need to explain results in context by connecting back to 3 algorithm, hyperparameters, and problem selection.\", \"point\": 6}, {\"yes\": \"You did explain performance vs. iterations based on plot/table.\", \"no\": \"You did not provide plot/table to show performance vs. iterations results.\", \"point\": 3}, {\"yes\": \"You did explain performance vs. size of problem based on plot/table.\", \"no\": \"You did not provide plot/table to show performance vs. size of problem results.\", \"point\": 3}, {\"yes\": \"Nice explanation on the convergence criterion and behavior.\", \"no\": \"You will need to include the convergence criterion and behavior.\", \"point\": 3}, {\"yes\": \"Nice addition on the improvements, such as extensive hyperparameter exploration, modifying algorithm behavior, adding domain knowledge, etc.\", \"no\": \"No evidence of the improvements, such as extensive hyperparameter exploration, modifying algorithm behavior, adding domain knowledge, etc.\", \"point\": 3}, {\"yes\": \"This report shows creativity. \", \"no\": \"This report lacked creativity. \", \"point\": 4}]]}, \"Part 8\": {\"title\": \"Conclusion\", \"problems\": [[{\"yes\": \"You concluded to show which algorithm performed best, and why. Also, you included wall clock times, trade-offs, discussion of no free lunch theorem, etc.\", \"no\": \"You did not concluded which algorithm performed best, and why. Also, you included wall clock times, trade-offs, discussion of no free lunch theorem, etc.\", \"point\": 3}]]}, \"Part 9\": {\"title\": \"Formatting\", \"problems\": [[{\"yes\": \"Images are formatting properly and legible. Also, you provided proper references.\", \"no\": \"Images are not formatting properly and legible. Also, you did not provide proper references.\", \"point\": 4}]]}, \"Part 10\": {\"title\": \"EC\", \"problems\": [[{\"yes\": \"\", \"no\": \"\", \"point\": 0}]]}}'"
      ]
     },
     "execution_count": 6,
     "metadata": {},
     "output_type": "execute_result"
    }
   ],
   "source": [
    "jd"
   ]
  },
  {
   "cell_type": "code",
   "execution_count": 10,
   "id": "1eb0df29",
   "metadata": {},
   "outputs": [
    {
     "data": {
      "text/plain": [
       "{'Part 0': {'title': 'Implementation',\n",
       "  'problems': [[{'yes': 'You have provided your README file and your implementation is accessible. ',\n",
       "     'no': 'You did not provide a README file but your implementation is not accessible. ',\n",
       "     'point': 5},\n",
       "    {'yes': 'You have provided a READ ONLY link to overleaf for your project report.',\n",
       "     'no': 'You did not provide a READ ONLY link to overleaf for your project report.',\n",
       "     'point': 5}]]},\n",
       " 'Part 1': {'title': 'Hypothesis',\n",
       "  'problems': [[{'yes': 'You have included hypothesis/hypotheses',\n",
       "     'no': 'We wanted to see hypothesis/hypotheses. You did not include any hypothesis/hypotheses in your report. ',\n",
       "     'point': 4},\n",
       "    {'yes': 'You have justified the need for your hypothesis.',\n",
       "     'no': 'We wanted to see why the hypothesis/hypotheses needed. You could have explained how the hypothesis/hypotheses provides some insight on the results and discussions. ',\n",
       "     'point': 2}]]},\n",
       " 'Part 2': {'title': 'NN RHC',\n",
       "  'problems': [[{'yes': 'You have explained why you got this result. ',\n",
       "     'no': 'You did not explained why you got this result.',\n",
       "     'point': 3},\n",
       "    {'yes': 'You have included the hyperparameters and their impact on algorithmic behavior as well as hypothesize about improvements.',\n",
       "     'no': 'We want to see more on your analysis of hyperparameters and hypothesize about improvements.',\n",
       "     'point': 4},\n",
       "    {'yes': 'Nice comparison based on performance and time for backprop vs RO as well as explained the reason why backprop or RO performed better.',\n",
       "     'no': 'You need to compares performance and time for backprop vs RO and explains why backprop or RO performed better.',\n",
       "     'point': 2}]]},\n",
       " 'Part 3': {'title': 'NN SA',\n",
       "  'problems': [[{'yes': 'You have explained why you got this result. ',\n",
       "     'no': 'You did not explained why you got this result.',\n",
       "     'point': 3},\n",
       "    {'yes': 'You have included the hyperparameters and their impact on algorithmic behavior as well as hypothesize about improvements.',\n",
       "     'no': 'We want to see more on your analysis of hyperparameters and hypothesize about improvements.',\n",
       "     'point': 4},\n",
       "    {'yes': 'Nice comparison based on performance and time for backprop vs RO as well as explained the reason why backprop or RO performed better.',\n",
       "     'no': 'You need to compares performance and time for backprop vs RO and explains why backprop or RO performed better.',\n",
       "     'point': 2}]]},\n",
       " 'Part 4': {'title': 'NN GA',\n",
       "  'problems': [[{'yes': 'You have explained why you got this result. ',\n",
       "     'no': 'You did not explained why you got this result.',\n",
       "     'point': 3},\n",
       "    {'yes': 'You have included the hyperparameters and their impact on algorithmic behavior as well as hypothesize about improvements.',\n",
       "     'no': 'We want to see more on your analysis of hyperparameters and hypothesize about improvements.',\n",
       "     'point': 4},\n",
       "    {'yes': 'Nice comparison based on performance and time for backprop vs RO as well as explained the reason why backprop or RO performed better.',\n",
       "     'no': 'You need to compares performance and time for backprop vs RO and explains why backprop or RO performed better.',\n",
       "     'point': 2}]]},\n",
       " 'Part 5': {'title': 'OP justtification',\n",
       "  'problems': [[{'yes': 'You have explained why the problems are interesting from an ML perspective',\n",
       "     'no': 'You need to explain why the problems are interesting from an ML perspective.',\n",
       "     'point': 6}]]},\n",
       " 'Part 6': {'title': 'OP Problem I',\n",
       "  'problems': [[{'yes': 'You explained results in context by connecting back to 3 algorithm, hyperparameters, and problem selection.',\n",
       "     'no': 'You need to explain results in context by connecting back to 3 algorithm, hyperparameters, and problem selection.',\n",
       "     'point': 6},\n",
       "    {'yes': 'You did explain performance vs. iterations based on plot/table.',\n",
       "     'no': 'You did not provide plot/table to show performance vs. iterations results.',\n",
       "     'point': 3},\n",
       "    {'yes': 'You did explain performance vs. size of problem based on plot/table.',\n",
       "     'no': 'You did not provide plot/table to show performance vs. size of problem results.',\n",
       "     'point': 3},\n",
       "    {'yes': 'Nice explanation on the convergence criterion and behavior.',\n",
       "     'no': 'You will need to include the convergence criterion and behavior.',\n",
       "     'point': 3},\n",
       "    {'yes': 'Nice addition on the improvements, such as extensive hyperparameter exploration, modifying algorithm behavior, adding domain knowledge, etc.',\n",
       "     'no': 'No evidence of the improvements, such as extensive hyperparameter exploration, modifying algorithm behavior, adding domain knowledge, etc.',\n",
       "     'point': 3},\n",
       "    {'yes': 'This report shows creativity. ',\n",
       "     'no': 'This report lacked creativity. ',\n",
       "     'point': 4}]]},\n",
       " 'Part 7': {'title': 'OP Problem II',\n",
       "  'problems': [[{'yes': 'You explained results in context by connecting back to 3 algorithm, hyperparameters, and problem selection.',\n",
       "     'no': 'You need to explain results in context by connecting back to 3 algorithm, hyperparameters, and problem selection.',\n",
       "     'point': 6},\n",
       "    {'yes': 'You did explain performance vs. iterations based on plot/table.',\n",
       "     'no': 'You did not provide plot/table to show performance vs. iterations results.',\n",
       "     'point': 3},\n",
       "    {'yes': 'You did explain performance vs. size of problem based on plot/table.',\n",
       "     'no': 'You did not provide plot/table to show performance vs. size of problem results.',\n",
       "     'point': 3},\n",
       "    {'yes': 'Nice explanation on the convergence criterion and behavior.',\n",
       "     'no': 'You will need to include the convergence criterion and behavior.',\n",
       "     'point': 3},\n",
       "    {'yes': 'Nice addition on the improvements, such as extensive hyperparameter exploration, modifying algorithm behavior, adding domain knowledge, etc.',\n",
       "     'no': 'No evidence of the improvements, such as extensive hyperparameter exploration, modifying algorithm behavior, adding domain knowledge, etc.',\n",
       "     'point': 3},\n",
       "    {'yes': 'This report shows creativity. ',\n",
       "     'no': 'This report lacked creativity. ',\n",
       "     'point': 4}]]},\n",
       " 'Part 8': {'title': 'Conclusion',\n",
       "  'problems': [[{'yes': 'You concluded to show which algorithm performed best, and why. Also, you included wall clock times, trade-offs, discussion of no free lunch theorem, etc.',\n",
       "     'no': 'You did not concluded which algorithm performed best, and why. Also, you included wall clock times, trade-offs, discussion of no free lunch theorem, etc.',\n",
       "     'point': 3}]]},\n",
       " 'Part 9': {'title': 'Formatting',\n",
       "  'problems': [[{'yes': 'Images are formatting properly and legible. Also, you provided proper references.',\n",
       "     'no': 'Images are not formatting properly and legible. Also, you did not provide proper references.',\n",
       "     'point': 4}]]},\n",
       " 'Part 10': {'title': 'EC', 'problems': [[{'yes': '', 'no': '', 'point': 0}]]}}"
      ]
     },
     "execution_count": 10,
     "metadata": {},
     "output_type": "execute_result"
    }
   ],
   "source": [
    "json.loads(jd)"
   ]
  },
  {
   "cell_type": "code",
   "execution_count": 11,
   "id": "345ac32c",
   "metadata": {},
   "outputs": [],
   "source": [
    "with open('a2summer.json', 'w', encoding='utf-8') as f:\n",
    "    json.dump(json.loads(jd), f, ensure_ascii=False, indent=4)"
   ]
  },
  {
   "cell_type": "code",
   "execution_count": null,
   "id": "3b3bc500",
   "metadata": {},
   "outputs": [],
   "source": []
  }
 ],
 "metadata": {
  "kernelspec": {
   "display_name": "Python 3 (ipykernel)",
   "language": "python",
   "name": "python3"
  },
  "language_info": {
   "codemirror_mode": {
    "name": "ipython",
    "version": 3
   },
   "file_extension": ".py",
   "mimetype": "text/x-python",
   "name": "python",
   "nbconvert_exporter": "python",
   "pygments_lexer": "ipython3",
   "version": "3.8.1"
  }
 },
 "nbformat": 4,
 "nbformat_minor": 5
}
