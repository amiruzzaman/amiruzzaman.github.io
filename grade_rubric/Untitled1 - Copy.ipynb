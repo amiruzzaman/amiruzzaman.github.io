{
 "cells": [
  {
   "cell_type": "raw",
   "id": "5392f7a7",
   "metadata": {},
   "source": [
    "# data.csv\n",
    "company_id,company_name,income_type,income_amt\n",
    "1,\"Foobar Inc\",\"royalties\",5000000\n",
    "2,\"ACME Corp\",\"sales\",3000000\n",
    "2,\"ACME Corp\",\"rent\",1000000\n"
   ]
  },
  {
   "cell_type": "code",
   "execution_count": 1,
   "id": "1ec90a26",
   "metadata": {},
   "outputs": [
    {
     "data": {
      "text/html": [
       "<div>\n",
       "<style scoped>\n",
       "    .dataframe tbody tr th:only-of-type {\n",
       "        vertical-align: middle;\n",
       "    }\n",
       "\n",
       "    .dataframe tbody tr th {\n",
       "        vertical-align: top;\n",
       "    }\n",
       "\n",
       "    .dataframe thead th {\n",
       "        text-align: right;\n",
       "    }\n",
       "</style>\n",
       "<table border=\"1\" class=\"dataframe\">\n",
       "  <thead>\n",
       "    <tr style=\"text-align: right;\">\n",
       "      <th></th>\n",
       "      <th>company_id</th>\n",
       "      <th>company_name</th>\n",
       "      <th>income_type</th>\n",
       "      <th>income_amt</th>\n",
       "    </tr>\n",
       "  </thead>\n",
       "  <tbody>\n",
       "    <tr>\n",
       "      <th>0</th>\n",
       "      <td>1</td>\n",
       "      <td>Foobar Inc</td>\n",
       "      <td>royalties</td>\n",
       "      <td>5000000</td>\n",
       "    </tr>\n",
       "    <tr>\n",
       "      <th>1</th>\n",
       "      <td>2</td>\n",
       "      <td>ACME Corp</td>\n",
       "      <td>sales</td>\n",
       "      <td>3000000</td>\n",
       "    </tr>\n",
       "    <tr>\n",
       "      <th>2</th>\n",
       "      <td>2</td>\n",
       "      <td>ACME Corp</td>\n",
       "      <td>rent</td>\n",
       "      <td>1000000</td>\n",
       "    </tr>\n",
       "  </tbody>\n",
       "</table>\n",
       "</div>"
      ],
      "text/plain": [
       "   company_id company_name income_type  income_amt\n",
       "0           1   Foobar Inc   royalties     5000000\n",
       "1           2    ACME Corp       sales     3000000\n",
       "2           2    ACME Corp        rent     1000000"
      ]
     },
     "execution_count": 1,
     "metadata": {},
     "output_type": "execute_result"
    }
   ],
   "source": [
    "import pandas as pd\n",
    "df = pd.read_csv('data.csv')\n",
    "df.head()"
   ]
  },
  {
   "cell_type": "code",
   "execution_count": 3,
   "id": "400ec2c3",
   "metadata": {},
   "outputs": [],
   "source": [
    "records = []\n",
    "for key, grp in df.groupby('company_id'):\n",
    "    records.append({\n",
    "        \"company_id\": key,\n",
    "        \"company_name\": grp.company_name.iloc[0],\n",
    "        \"income\": {\n",
    "            row.income_type: row.income_amt for row in grp.itertuples()\n",
    "        }})"
   ]
  },
  {
   "cell_type": "code",
   "execution_count": 4,
   "id": "bce7e7a0",
   "metadata": {},
   "outputs": [
    {
     "data": {
      "text/plain": [
       "[{'company_id': 1,\n",
       "  'company_name': 'Foobar Inc',\n",
       "  'income': {'royalties': 5000000}},\n",
       " {'company_id': 2,\n",
       "  'company_name': 'ACME Corp',\n",
       "  'income': {'sales': 3000000, 'rent': 1000000}}]"
      ]
     },
     "execution_count": 4,
     "metadata": {},
     "output_type": "execute_result"
    }
   ],
   "source": [
    "records"
   ]
  },
  {
   "cell_type": "code",
   "execution_count": 34,
   "id": "174d2b54",
   "metadata": {},
   "outputs": [
    {
     "data": {
      "text/html": [
       "<div>\n",
       "<style scoped>\n",
       "    .dataframe tbody tr th:only-of-type {\n",
       "        vertical-align: middle;\n",
       "    }\n",
       "\n",
       "    .dataframe tbody tr th {\n",
       "        vertical-align: top;\n",
       "    }\n",
       "\n",
       "    .dataframe thead th {\n",
       "        text-align: right;\n",
       "    }\n",
       "</style>\n",
       "<table border=\"1\" class=\"dataframe\">\n",
       "  <thead>\n",
       "    <tr style=\"text-align: right;\">\n",
       "      <th></th>\n",
       "      <th>category</th>\n",
       "      <th>yes</th>\n",
       "      <th>no</th>\n",
       "      <th>points</th>\n",
       "    </tr>\n",
       "  </thead>\n",
       "  <tbody>\n",
       "    <tr>\n",
       "      <th>0</th>\n",
       "      <td>Implementation</td>\n",
       "      <td>Your README file is present and code for imple...</td>\n",
       "      <td>You did not provide README file and your code ...</td>\n",
       "      <td>5.0</td>\n",
       "    </tr>\n",
       "    <tr>\n",
       "      <th>1</th>\n",
       "      <td>NaN</td>\n",
       "      <td>You provided a READ ONLY link to Overleaf usin...</td>\n",
       "      <td>You did not provide READ ONLY link to your Ove...</td>\n",
       "      <td>5.0</td>\n",
       "    </tr>\n",
       "    <tr>\n",
       "      <th>2</th>\n",
       "      <td>Problem Description</td>\n",
       "      <td>You provided information about two dataset.</td>\n",
       "      <td>You did not provided detailed information abou...</td>\n",
       "      <td>2.0</td>\n",
       "    </tr>\n",
       "    <tr>\n",
       "      <th>3</th>\n",
       "      <td>NaN</td>\n",
       "      <td>You described how each dataset is interesting ...</td>\n",
       "      <td>You needed to describe each dataset in detail ...</td>\n",
       "      <td>2.0</td>\n",
       "    </tr>\n",
       "    <tr>\n",
       "      <th>4</th>\n",
       "      <td>NaN</td>\n",
       "      <td>You described the underlying structure of each...</td>\n",
       "      <td>You did not describe the underlying structure ...</td>\n",
       "      <td>2.0</td>\n",
       "    </tr>\n",
       "    <tr>\n",
       "      <th>5</th>\n",
       "      <td>NaN</td>\n",
       "      <td>You explained why your datasets may produce di...</td>\n",
       "      <td>You did not explain why your datasets may prod...</td>\n",
       "      <td>6.0</td>\n",
       "    </tr>\n",
       "    <tr>\n",
       "      <th>6</th>\n",
       "      <td>Problem Analysis (NN)</td>\n",
       "      <td>You provided some discussion on learing comple...</td>\n",
       "      <td>You needed to provide some discussion on leari...</td>\n",
       "      <td>8.0</td>\n",
       "    </tr>\n",
       "    <tr>\n",
       "      <th>7</th>\n",
       "      <td>NaN</td>\n",
       "      <td>You aded model complexity</td>\n",
       "      <td>You needed to provide some discussion on model...</td>\n",
       "      <td>8.0</td>\n",
       "    </tr>\n",
       "    <tr>\n",
       "      <th>8</th>\n",
       "      <td>NaN</td>\n",
       "      <td>You also provided some plots</td>\n",
       "      <td>Your report lacks on plots from your analysis</td>\n",
       "      <td>8.0</td>\n",
       "    </tr>\n",
       "    <tr>\n",
       "      <th>9</th>\n",
       "      <td>Problem Analysis (SVM)</td>\n",
       "      <td>You provided some discussion on learing comple...</td>\n",
       "      <td>You needed to provide some discussion on leari...</td>\n",
       "      <td>8.0</td>\n",
       "    </tr>\n",
       "    <tr>\n",
       "      <th>10</th>\n",
       "      <td>NaN</td>\n",
       "      <td>You aded model complexity</td>\n",
       "      <td>You needed to provide some discussion on model...</td>\n",
       "      <td>8.0</td>\n",
       "    </tr>\n",
       "    <tr>\n",
       "      <th>11</th>\n",
       "      <td>NaN</td>\n",
       "      <td>You also provided some plots</td>\n",
       "      <td>Your report lacks on plots from your analysis</td>\n",
       "      <td>8.0</td>\n",
       "    </tr>\n",
       "    <tr>\n",
       "      <th>12</th>\n",
       "      <td>Problem Analysis (KNN)</td>\n",
       "      <td>You provided some discussion on learing comple...</td>\n",
       "      <td>You needed to provide some discussion on leari...</td>\n",
       "      <td>8.0</td>\n",
       "    </tr>\n",
       "    <tr>\n",
       "      <th>13</th>\n",
       "      <td>NaN</td>\n",
       "      <td>You aded model complexity</td>\n",
       "      <td>You needed to provide some discussion on model...</td>\n",
       "      <td>8.0</td>\n",
       "    </tr>\n",
       "    <tr>\n",
       "      <th>14</th>\n",
       "      <td>NaN</td>\n",
       "      <td>You also provided some plots</td>\n",
       "      <td>Your report lacks on plots from your analysis</td>\n",
       "      <td>8.0</td>\n",
       "    </tr>\n",
       "    <tr>\n",
       "      <th>15</th>\n",
       "      <td>Conclusion</td>\n",
       "      <td>You provided some conclusions based on your ob...</td>\n",
       "      <td>You did not provide detailed conclusions based...</td>\n",
       "      <td>6.0</td>\n",
       "    </tr>\n",
       "    <tr>\n",
       "      <th>16</th>\n",
       "      <td>NaN</td>\n",
       "      <td>NaN</td>\n",
       "      <td>NaN</td>\n",
       "      <td>NaN</td>\n",
       "    </tr>\n",
       "    <tr>\n",
       "      <th>17</th>\n",
       "      <td>NaN</td>\n",
       "      <td>NaN</td>\n",
       "      <td>NaN</td>\n",
       "      <td>NaN</td>\n",
       "    </tr>\n",
       "    <tr>\n",
       "      <th>18</th>\n",
       "      <td>NaN</td>\n",
       "      <td>NaN</td>\n",
       "      <td>NaN</td>\n",
       "      <td>NaN</td>\n",
       "    </tr>\n",
       "    <tr>\n",
       "      <th>19</th>\n",
       "      <td>NaN</td>\n",
       "      <td>NaN</td>\n",
       "      <td>NaN</td>\n",
       "      <td>100.0</td>\n",
       "    </tr>\n",
       "  </tbody>\n",
       "</table>\n",
       "</div>"
      ],
      "text/plain": [
       "                  category                                                yes  \\\n",
       "0           Implementation  Your README file is present and code for imple...   \n",
       "1                      NaN  You provided a READ ONLY link to Overleaf usin...   \n",
       "2      Problem Description        You provided information about two dataset.   \n",
       "3                      NaN  You described how each dataset is interesting ...   \n",
       "4                      NaN  You described the underlying structure of each...   \n",
       "5                      NaN  You explained why your datasets may produce di...   \n",
       "6    Problem Analysis (NN)  You provided some discussion on learing comple...   \n",
       "7                      NaN                          You aded model complexity   \n",
       "8                      NaN                       You also provided some plots   \n",
       "9   Problem Analysis (SVM)  You provided some discussion on learing comple...   \n",
       "10                     NaN                          You aded model complexity   \n",
       "11                     NaN                       You also provided some plots   \n",
       "12  Problem Analysis (KNN)  You provided some discussion on learing comple...   \n",
       "13                     NaN                          You aded model complexity   \n",
       "14                     NaN                       You also provided some plots   \n",
       "15              Conclusion  You provided some conclusions based on your ob...   \n",
       "16                     NaN                                                NaN   \n",
       "17                     NaN                                                NaN   \n",
       "18                     NaN                                                NaN   \n",
       "19                     NaN                                                NaN   \n",
       "\n",
       "                                                   no  points  \n",
       "0   You did not provide README file and your code ...     5.0  \n",
       "1   You did not provide READ ONLY link to your Ove...     5.0  \n",
       "2   You did not provided detailed information abou...     2.0  \n",
       "3   You needed to describe each dataset in detail ...     2.0  \n",
       "4   You did not describe the underlying structure ...     2.0  \n",
       "5   You did not explain why your datasets may prod...     6.0  \n",
       "6   You needed to provide some discussion on leari...     8.0  \n",
       "7   You needed to provide some discussion on model...     8.0  \n",
       "8       Your report lacks on plots from your analysis     8.0  \n",
       "9   You needed to provide some discussion on leari...     8.0  \n",
       "10  You needed to provide some discussion on model...     8.0  \n",
       "11      Your report lacks on plots from your analysis     8.0  \n",
       "12  You needed to provide some discussion on leari...     8.0  \n",
       "13  You needed to provide some discussion on model...     8.0  \n",
       "14      Your report lacks on plots from your analysis     8.0  \n",
       "15  You did not provide detailed conclusions based...     6.0  \n",
       "16                                                NaN     NaN  \n",
       "17                                                NaN     NaN  \n",
       "18                                                NaN     NaN  \n",
       "19                                                NaN   100.0  "
      ]
     },
     "execution_count": 34,
     "metadata": {},
     "output_type": "execute_result"
    }
   ],
   "source": [
    "import pandas as pd\n",
    "df1 = pd.read_csv('A1_csv_fall24.csv')\n",
    "df1"
   ]
  },
  {
   "cell_type": "code",
   "execution_count": 52,
   "id": "fa540390",
   "metadata": {},
   "outputs": [
    {
     "name": "stdout",
     "output_type": "stream",
     "text": [
      "category 0             Implementation\n",
      "1                        NaN\n",
      "2        Problem Description\n",
      "3                        NaN\n",
      "4                        NaN\n",
      "5                        NaN\n",
      "6      Problem Analysis (NN)\n",
      "7                        NaN\n",
      "8                        NaN\n",
      "9     Problem Analysis (SVM)\n",
      "10                       NaN\n",
      "11                       NaN\n",
      "12    Problem Analysis (KNN)\n",
      "13                       NaN\n",
      "14                       NaN\n",
      "15                Conclusion\n",
      "16                       NaN\n",
      "17                       NaN\n",
      "18                       NaN\n",
      "19                       NaN\n",
      "Name: category, dtype: object\n",
      "yes 0     Your README file is present and code for imple...\n",
      "1     You provided a READ ONLY link to Overleaf usin...\n",
      "2           You provided information about two dataset.\n",
      "3     You described how each dataset is interesting ...\n",
      "4     You described the underlying structure of each...\n",
      "5     You explained why your datasets may produce di...\n",
      "6     You provided some discussion on learing comple...\n",
      "7                             You aded model complexity\n",
      "8                          You also provided some plots\n",
      "9     You provided some discussion on learing comple...\n",
      "10                            You aded model complexity\n",
      "11                         You also provided some plots\n",
      "12    You provided some discussion on learing comple...\n",
      "13                            You aded model complexity\n",
      "14                         You also provided some plots\n",
      "15    You provided some conclusions based on your ob...\n",
      "16                                                  NaN\n",
      "17                                                  NaN\n",
      "18                                                  NaN\n",
      "19                                                  NaN\n",
      "Name: yes, dtype: object\n",
      "no 0     You did not provide README file and your code ...\n",
      "1     You did not provide READ ONLY link to your Ove...\n",
      "2     You did not provided detailed information abou...\n",
      "3     You needed to describe each dataset in detail ...\n",
      "4     You did not describe the underlying structure ...\n",
      "5     You did not explain why your datasets may prod...\n",
      "6     You needed to provide some discussion on leari...\n",
      "7     You needed to provide some discussion on model...\n",
      "8         Your report lacks on plots from your analysis\n",
      "9     You needed to provide some discussion on leari...\n",
      "10    You needed to provide some discussion on model...\n",
      "11        Your report lacks on plots from your analysis\n",
      "12    You needed to provide some discussion on leari...\n",
      "13    You needed to provide some discussion on model...\n",
      "14        Your report lacks on plots from your analysis\n",
      "15    You did not provide detailed conclusions based...\n",
      "16                                                  NaN\n",
      "17                                                  NaN\n",
      "18                                                  NaN\n",
      "19                                                  NaN\n",
      "Name: no, dtype: object\n",
      "points 0       5.0\n",
      "1       5.0\n",
      "2       2.0\n",
      "3       2.0\n",
      "4       2.0\n",
      "5       6.0\n",
      "6       8.0\n",
      "7       8.0\n",
      "8       8.0\n",
      "9       8.0\n",
      "10      8.0\n",
      "11      8.0\n",
      "12      8.0\n",
      "13      8.0\n",
      "14      8.0\n",
      "15      6.0\n",
      "16      NaN\n",
      "17      NaN\n",
      "18      NaN\n",
      "19    100.0\n",
      "Name: points, dtype: float64\n"
     ]
    }
   ],
   "source": [
    "for name, series in df1.items():\n",
    "    print(name, series)"
   ]
  },
  {
   "cell_type": "code",
   "execution_count": 56,
   "id": "fd16721d",
   "metadata": {},
   "outputs": [
    {
     "name": "stdout",
     "output_type": "stream",
     "text": [
      "category c\n",
      "yes y\n",
      "no n\n",
      "points p\n"
     ]
    }
   ],
   "source": [
    "for name, series in df1.items():\n",
    "    print(name, name[0])"
   ]
  },
  {
   "cell_type": "code",
   "execution_count": 61,
   "id": "d6aae692",
   "metadata": {},
   "outputs": [
    {
     "name": "stdout",
     "output_type": "stream",
     "text": [
      "0     Your README file is present and code for imple...\n",
      "1     You provided a READ ONLY link to Overleaf usin...\n",
      "2           You provided information about two dataset.\n",
      "3     You described how each dataset is interesting ...\n",
      "4     You described the underlying structure of each...\n",
      "5     You explained why your datasets may produce di...\n",
      "6     You provided some discussion on learing comple...\n",
      "7                             You aded model complexity\n",
      "8                          You also provided some plots\n",
      "9     You provided some discussion on learing comple...\n",
      "10                            You aded model complexity\n",
      "11                         You also provided some plots\n",
      "12    You provided some discussion on learing comple...\n",
      "13                            You aded model complexity\n",
      "14                         You also provided some plots\n",
      "15    You provided some conclusions based on your ob...\n",
      "16                                                  NaN\n",
      "17                                                  NaN\n",
      "18                                                  NaN\n",
      "19                                                  NaN\n",
      "Name: yes, dtype: object\n",
      "0     You did not provide README file and your code ...\n",
      "1     You did not provide READ ONLY link to your Ove...\n",
      "2     You did not provided detailed information abou...\n",
      "3     You needed to describe each dataset in detail ...\n",
      "4     You did not describe the underlying structure ...\n",
      "5     You did not explain why your datasets may prod...\n",
      "6     You needed to provide some discussion on leari...\n",
      "7     You needed to provide some discussion on model...\n",
      "8         Your report lacks on plots from your analysis\n",
      "9     You needed to provide some discussion on leari...\n",
      "10    You needed to provide some discussion on model...\n",
      "11        Your report lacks on plots from your analysis\n",
      "12    You needed to provide some discussion on leari...\n",
      "13    You needed to provide some discussion on model...\n",
      "14        Your report lacks on plots from your analysis\n",
      "15    You did not provide detailed conclusions based...\n",
      "16                                                  NaN\n",
      "17                                                  NaN\n",
      "18                                                  NaN\n",
      "19                                                  NaN\n",
      "Name: no, dtype: object\n",
      "0       5.0\n",
      "1       5.0\n",
      "2       2.0\n",
      "3       2.0\n",
      "4       2.0\n",
      "5       6.0\n",
      "6       8.0\n",
      "7       8.0\n",
      "8       8.0\n",
      "9       8.0\n",
      "10      8.0\n",
      "11      8.0\n",
      "12      8.0\n",
      "13      8.0\n",
      "14      8.0\n",
      "15      6.0\n",
      "16      NaN\n",
      "17      NaN\n",
      "18      NaN\n",
      "19    100.0\n",
      "Name: points, dtype: float64\n"
     ]
    }
   ],
   "source": [
    "for column in df1.columns[1:]:\n",
    "    print(df1[column])"
   ]
  },
  {
   "cell_type": "code",
   "execution_count": 85,
   "id": "daa0be86",
   "metadata": {},
   "outputs": [
    {
     "data": {
      "text/plain": [
       "0             Implementation\n",
       "2        Problem Description\n",
       "6      Problem Analysis (NN)\n",
       "9     Problem Analysis (SVM)\n",
       "12    Problem Analysis (KNN)\n",
       "15                Conclusion\n",
       "Name: category, dtype: object"
      ]
     },
     "execution_count": 85,
     "metadata": {},
     "output_type": "execute_result"
    }
   ],
   "source": [
    "df1['category'].dropna()"
   ]
  },
  {
   "cell_type": "code",
   "execution_count": 89,
   "id": "d4277bb4",
   "metadata": {},
   "outputs": [
    {
     "data": {
      "text/plain": [
       "0             Implementation\n",
       "2        Problem Description\n",
       "6      Problem Analysis (NN)\n",
       "9     Problem Analysis (SVM)\n",
       "12    Problem Analysis (KNN)\n",
       "15                Conclusion\n",
       "Name: category, dtype: object"
      ]
     },
     "execution_count": 89,
     "metadata": {},
     "output_type": "execute_result"
    }
   ],
   "source": [
    "df0 = pd.DataFrame()\n",
    "df0['category'] = df1['category'].dropna()\n",
    "df0['category']"
   ]
  },
  {
   "cell_type": "code",
   "execution_count": 91,
   "id": "61331950",
   "metadata": {},
   "outputs": [],
   "source": [
    "df0.reset_index(drop=True, inplace=True)"
   ]
  },
  {
   "cell_type": "code",
   "execution_count": 100,
   "id": "95766800",
   "metadata": {},
   "outputs": [
    {
     "name": "stdout",
     "output_type": "stream",
     "text": [
      "Implementation\n",
      "Problem Description\n",
      "Problem Analysis (NN)\n",
      "Problem Analysis (SVM)\n",
      "Problem Analysis (KNN)\n",
      "Conclusion\n"
     ]
    },
    {
     "data": {
      "text/plain": [
       "['Implementation',\n",
       " 'Problem Description',\n",
       " 'Problem Analysis (NN)',\n",
       " 'Problem Analysis (SVM)',\n",
       " 'Problem Analysis (KNN)',\n",
       " 'Conclusion']"
      ]
     },
     "execution_count": 100,
     "metadata": {},
     "output_type": "execute_result"
    }
   ],
   "source": [
    "auxiliaryList = []\n",
    "for d in df0['category']:\n",
    "    print(d)\n",
    "    if d not in auxiliaryList:\n",
    "        auxiliaryList.append(d)\n",
    "auxiliaryList"
   ]
  },
  {
   "cell_type": "code",
   "execution_count": 101,
   "id": "c0e5b6a8",
   "metadata": {},
   "outputs": [
    {
     "name": "stdout",
     "output_type": "stream",
     "text": [
      "0 :  Implementation\n",
      "1 :  Problem Description\n",
      "2 :  Problem Analysis (NN)\n",
      "3 :  Problem Analysis (SVM)\n",
      "4 :  Problem Analysis (KNN)\n",
      "5 :  Conclusion\n"
     ]
    }
   ],
   "source": [
    "for i, val in enumerate(auxiliaryList):\n",
    "    print(i, \": \", val)"
   ]
  },
  {
   "cell_type": "code",
   "execution_count": 110,
   "id": "78ec763c",
   "metadata": {},
   "outputs": [
    {
     "data": {
      "text/plain": [
       "[{'Part 0': {'title': 'Implementation',\n",
       "   'problems': [[{'yes': 'someyes', 'no': 'someno', 'point': 'somepoints'}]]}},\n",
       " {'Part 1': {'title': 'Problem Description',\n",
       "   'problems': [[{'yes': 'someyes', 'no': 'someno', 'point': 'somepoints'}]]}},\n",
       " {'Part 2': {'title': 'Problem Analysis (NN)',\n",
       "   'problems': [[{'yes': 'someyes', 'no': 'someno', 'point': 'somepoints'}]]}},\n",
       " {'Part 3': {'title': 'Problem Analysis (SVM)',\n",
       "   'problems': [[{'yes': 'someyes', 'no': 'someno', 'point': 'somepoints'}]]}},\n",
       " {'Part 4': {'title': 'Problem Analysis (KNN)',\n",
       "   'problems': [[{'yes': 'someyes', 'no': 'someno', 'point': 'somepoints'}]]}},\n",
       " {'Part 5': {'title': 'Conclusion',\n",
       "   'problems': [[{'yes': 'someyes', 'no': 'someno', 'point': 'somepoints'}]]}}]"
      ]
     },
     "execution_count": 110,
     "metadata": {},
     "output_type": "execute_result"
    }
   ],
   "source": [
    "j = []\n",
    "for i, val in enumerate(auxiliaryList):\n",
    "    j.append({\n",
    "        \"Part \"+str(i) :{\n",
    "            \"title\": val,\n",
    "            \"problems\":[\n",
    "             [   { \n",
    "            \"yes\": \"someyes\",\n",
    "            \"no\": \"someno\",\n",
    "            \"point\": \"somepoints\"\n",
    "            }]\n",
    "             ]\n",
    "        }\n",
    "    })\n",
    "j"
   ]
  },
  {
   "cell_type": "code",
   "execution_count": 108,
   "id": "987b32a9",
   "metadata": {},
   "outputs": [],
   "source": [
    "import json\n",
    "\n",
    "with open('test.txt', 'w') as filehandle:\n",
    "    json.dump(j, filehandle)"
   ]
  },
  {
   "cell_type": "code",
   "execution_count": 83,
   "id": "73654d23",
   "metadata": {},
   "outputs": [
    {
     "name": "stdout",
     "output_type": "stream",
     "text": [
      "0             Implementation\n",
      "1                        NaN\n",
      "2        Problem Description\n",
      "3                        NaN\n",
      "4                        NaN\n",
      "5                        NaN\n",
      "6      Problem Analysis (NN)\n",
      "7                        NaN\n",
      "8                        NaN\n",
      "9     Problem Analysis (SVM)\n",
      "10                       NaN\n",
      "11                       NaN\n",
      "12    Problem Analysis (KNN)\n",
      "13                       NaN\n",
      "14                       NaN\n",
      "15                Conclusion\n",
      "16                       NaN\n",
      "17                       NaN\n",
      "18                       NaN\n",
      "19                       NaN\n",
      "Name: category, dtype: object\n"
     ]
    },
    {
     "ename": "ValueError",
     "evalue": "The truth value of a Series is ambiguous. Use a.empty, a.bool(), a.item(), a.any() or a.all().",
     "output_type": "error",
     "traceback": [
      "\u001b[1;31m-------------------------------------------------\u001b[0m",
      "\u001b[1;31mValueError\u001b[0m      Traceback (most recent call last)",
      "\u001b[1;32m~\\AppData\\Local\\Temp/ipykernel_25508/1899244756.py\u001b[0m in \u001b[0;36m<module>\u001b[1;34m\u001b[0m\n\u001b[0;32m      5\u001b[0m \u001b[1;31m#     print(i, df1[column], df1[column][0])\u001b[0m\u001b[1;33m\u001b[0m\u001b[1;33m\u001b[0m\u001b[1;33m\u001b[0m\u001b[0m\n\u001b[0;32m      6\u001b[0m     \u001b[0mprint\u001b[0m\u001b[1;33m(\u001b[0m\u001b[0mdf1\u001b[0m\u001b[1;33m[\u001b[0m\u001b[1;34m'category'\u001b[0m\u001b[1;33m]\u001b[0m\u001b[1;33m)\u001b[0m\u001b[1;33m\u001b[0m\u001b[1;33m\u001b[0m\u001b[0m\n\u001b[1;32m----> 7\u001b[1;33m     \u001b[1;32mif\u001b[0m \u001b[0mdf1\u001b[0m\u001b[1;33m[\u001b[0m\u001b[1;34m'category'\u001b[0m\u001b[1;33m]\u001b[0m \u001b[1;32mnot\u001b[0m \u001b[1;32min\u001b[0m \u001b[0mauxiliaryList\u001b[0m \u001b[1;32mand\u001b[0m \u001b[0mdf1\u001b[0m\u001b[1;33m[\u001b[0m\u001b[1;34m'category'\u001b[0m\u001b[1;33m]\u001b[0m \u001b[1;33m==\u001b[0m \u001b[0mdf1\u001b[0m\u001b[1;33m[\u001b[0m\u001b[1;34m'category'\u001b[0m\u001b[1;33m]\u001b[0m\u001b[1;33m.\u001b[0m\u001b[0mnotna\u001b[0m\u001b[1;33m(\u001b[0m\u001b[1;33m)\u001b[0m \u001b[1;33m:\u001b[0m\u001b[1;33m\u001b[0m\u001b[1;33m\u001b[0m\u001b[0m\n\u001b[0m\u001b[0;32m      8\u001b[0m         \u001b[0mauxiliaryList\u001b[0m\u001b[1;33m.\u001b[0m\u001b[0mappend\u001b[0m\u001b[1;33m(\u001b[0m\u001b[0mdf1\u001b[0m\u001b[1;33m[\u001b[0m\u001b[1;34m'category'\u001b[0m\u001b[1;33m]\u001b[0m\u001b[1;33m)\u001b[0m\u001b[1;33m\u001b[0m\u001b[1;33m\u001b[0m\u001b[0m\n",
      "\u001b[1;32m~\\AppData\\Local\\Programs\\Python\\Python38-32\\lib\\site-packages\\pandas\\core\\generic.py\u001b[0m in \u001b[0;36m__nonzero__\u001b[1;34m(self)\u001b[0m\n\u001b[0;32m   1475\u001b[0m \u001b[1;33m\u001b[0m\u001b[0m\n\u001b[0;32m   1476\u001b[0m     \u001b[1;32mdef\u001b[0m \u001b[0m__nonzero__\u001b[0m\u001b[1;33m(\u001b[0m\u001b[0mself\u001b[0m\u001b[1;33m)\u001b[0m\u001b[1;33m:\u001b[0m\u001b[1;33m\u001b[0m\u001b[1;33m\u001b[0m\u001b[0m\n\u001b[1;32m-> 1477\u001b[1;33m         raise ValueError(\n\u001b[0m\u001b[0;32m   1478\u001b[0m             \u001b[1;34mf\"The truth value of a {type(self).__name__} is ambiguous. \"\u001b[0m\u001b[1;33m\u001b[0m\u001b[1;33m\u001b[0m\u001b[0m\n\u001b[0;32m   1479\u001b[0m             \u001b[1;34m\"Use a.empty, a.bool(), a.item(), a.any() or a.all().\"\u001b[0m\u001b[1;33m\u001b[0m\u001b[1;33m\u001b[0m\u001b[0m\n",
      "\u001b[1;31mValueError\u001b[0m: The truth value of a Series is ambiguous. Use a.empty, a.bool(), a.item(), a.any() or a.all()."
     ]
    }
   ],
   "source": [
    "import numpy as np\n",
    "value = float('nan') \n",
    "auxiliaryList = []\n",
    "for i, column in enumerate(df1):\n",
    "#     print(i, df1[column], df1[column][0])\n",
    "    print(df1['category'])\n",
    "    if df1['category'] not in auxiliaryList and df1['category'] == df1['category'].notna() :\n",
    "        auxiliaryList.append(df1['category'])"
   ]
  },
  {
   "cell_type": "code",
   "execution_count": 73,
   "id": "84152649",
   "metadata": {},
   "outputs": [
    {
     "data": {
      "text/plain": [
       "[0             Implementation\n",
       " 1                        NaN\n",
       " 2        Problem Description\n",
       " 3                        NaN\n",
       " 4                        NaN\n",
       " 5                        NaN\n",
       " 6      Problem Analysis (NN)\n",
       " 7                        NaN\n",
       " 8                        NaN\n",
       " 9     Problem Analysis (SVM)\n",
       " 10                       NaN\n",
       " 11                       NaN\n",
       " 12    Problem Analysis (KNN)\n",
       " 13                       NaN\n",
       " 14                       NaN\n",
       " 15                Conclusion\n",
       " 16                       NaN\n",
       " 17                       NaN\n",
       " 18                       NaN\n",
       " 19                       NaN\n",
       " Name: category, dtype: object]"
      ]
     },
     "execution_count": 73,
     "metadata": {},
     "output_type": "execute_result"
    }
   ],
   "source": [
    "auxiliaryList"
   ]
  },
  {
   "cell_type": "code",
   "execution_count": 53,
   "id": "60ecf753",
   "metadata": {},
   "outputs": [
    {
     "name": "stdout",
     "output_type": "stream",
     "text": [
      "category: Implementation\n",
      "yes: Your README file is present and code for implementation is accessible.\n",
      "no: You did not provide README file and your code is not accessisible\n",
      "points: 5.0\n"
     ]
    }
   ],
   "source": [
    "for name, values in df1.iteritems():\n",
    "    print('{name}: {value}'.format(name=name, value=values[0]))"
   ]
  },
  {
   "cell_type": "code",
   "execution_count": 27,
   "id": "d30f706c",
   "metadata": {},
   "outputs": [
    {
     "name": "stdout",
     "output_type": "stream",
     "text": [
      "group0 Conclusion 15    You provided some conclusions based on your ob...\n",
      "Name: yes, dtype: object 15    You did not provide detailed conclusions based...\n",
      "Name: no, dtype: object 15    6.0\n",
      "Name: points, dtype: float64\n",
      "group1 Implementation 0    Your README file is present and code for imple...\n",
      "Name: yes, dtype: object 0    You did not provide README file and your code ...\n",
      "Name: no, dtype: object 0    5.0\n",
      "Name: points, dtype: float64\n",
      "group2 Problem Analysis (KNN) 12    You provided some discussion on learing comple...\n",
      "Name: yes, dtype: object 12    You needed to provide some discussion on leari...\n",
      "Name: no, dtype: object 12    8.0\n",
      "Name: points, dtype: float64\n",
      "group3 Problem Analysis (NN) 6    You provided some discussion on learing comple...\n",
      "Name: yes, dtype: object 6    You needed to provide some discussion on leari...\n",
      "Name: no, dtype: object 6    8.0\n",
      "Name: points, dtype: float64\n",
      "group4 Problem Analysis (SVM) 9    You provided some discussion on learing comple...\n",
      "Name: yes, dtype: object 9    You needed to provide some discussion on leari...\n",
      "Name: no, dtype: object 9    8.0\n",
      "Name: points, dtype: float64\n",
      "group5 Problem Description 2    You provided information about two dataset.\n",
      "Name: yes, dtype: object 2    You did not provided detailed information abou...\n",
      "Name: no, dtype: object 2    2.0\n",
      "Name: points, dtype: float64\n"
     ]
    }
   ],
   "source": [
    "i = 0\n",
    "for k, g in df1.groupby('category'):\n",
    "    print(\"group\"+str(i), k, g.yes, g.no, g.points)\n",
    "    i += 1"
   ]
  },
  {
   "cell_type": "code",
   "execution_count": 33,
   "id": "2adc4748",
   "metadata": {},
   "outputs": [
    {
     "data": {
      "text/plain": [
       "[{'problems': {'yes': 'You provided some conclusions based on your observations (considered datasets; accuracy; time and space comlexities; features). Also applied broad ideas from leatures (cross-validation; mean absolute error; mean squared errors; overfitting and  underfitting; bias and variance trade-off)',\n",
       "   'no': 'You did not provide detailed conclusions based on your observations. In your conclusions you could have considered accuracy; time and space comlexities; features. Also tie them back with broad ideas from leatures (cross-validation; mean absolute error; mean squared errors; overfitting and  underfitting; bias and variance trade-off).',\n",
       "   'point': 6.0}},\n",
       " {'problems': {'yes': 'Your README file is present and code for implementation is accessible.',\n",
       "   'no': 'You did not provide README file and your code is not accessisible',\n",
       "   'point': 5.0}},\n",
       " {'problems': {'yes': 'You provided some discussion on learing complexity (LC) ',\n",
       "   'no': 'You needed to provide some discussion on learing complexity (LC) ',\n",
       "   'point': 8.0}},\n",
       " {'problems': {'yes': 'You provided some discussion on learing complexity (LC) ',\n",
       "   'no': 'You needed to provide some discussion on learing complexity (LC) ',\n",
       "   'point': 8.0}},\n",
       " {'problems': {'yes': 'You provided some discussion on learing complexity (LC) ',\n",
       "   'no': 'You needed to provide some discussion on learing complexity (LC) ',\n",
       "   'point': 8.0}},\n",
       " {'problems': {'yes': 'You provided information about two dataset.',\n",
       "   'no': 'You did not provided detailed information about two datasets. It was required that two datasets were chosen for this assignment. ',\n",
       "   'point': 2.0}}]"
      ]
     },
     "execution_count": 33,
     "metadata": {},
     "output_type": "execute_result"
    }
   ],
   "source": [
    "records1 = []\n",
    "i = 0\n",
    "for key1, grp1 in df1.groupby('category'):\n",
    "    records1.append({\n",
    "        \"title\":\n",
    "        \"problems\": {\n",
    "        \"yes\": grp1.yes.iloc[0],\n",
    "        \"no\": grp1.no.iloc[0],\n",
    "        \"point\": grp1.points.iloc[0]\n",
    "        }\n",
    "    })\n",
    "    i += 1\n",
    "records1"
   ]
  },
  {
   "cell_type": "code",
   "execution_count": 24,
   "id": "fff6d715",
   "metadata": {},
   "outputs": [],
   "source": [
    "import json\n",
    "\n",
    "with open('output.txt', 'w') as filehandle:\n",
    "    json.dump(records1, filehandle)"
   ]
  },
  {
   "cell_type": "code",
   "execution_count": 25,
   "id": "60f7c2a5",
   "metadata": {},
   "outputs": [],
   "source": [
    "# https://jsonformatter.org/"
   ]
  },
  {
   "cell_type": "code",
   "execution_count": null,
   "id": "c3670f42",
   "metadata": {},
   "outputs": [],
   "source": []
  }
 ],
 "metadata": {
  "kernelspec": {
   "display_name": "Python 3 (ipykernel)",
   "language": "python",
   "name": "python3"
  },
  "language_info": {
   "codemirror_mode": {
    "name": "ipython",
    "version": 3
   },
   "file_extension": ".py",
   "mimetype": "text/x-python",
   "name": "python",
   "nbconvert_exporter": "python",
   "pygments_lexer": "ipython3",
   "version": "3.8.1"
  }
 },
 "nbformat": 4,
 "nbformat_minor": 5
}
