{
 "cells": [
  {
   "cell_type": "code",
   "execution_count": 1,
   "id": "77274cad",
   "metadata": {},
   "outputs": [],
   "source": [
    "from csv import DictReader, DictWriter\n",
    "import json\n",
    "\n",
    "def check_title(my_dict, title):\n",
    "    index = 0\n",
    "    for key, value in my_dict.items():\n",
    "        if my_dict[key][\"title\"] == title:\n",
    "            return index\n",
    "        index += 1\n",
    "    return -1\n",
    "        \n",
    "\n",
    "mydictionary = {}\n",
    "with open('Assignment1_fall2024.csv', 'r') as infile: #, open('outfile.csv', 'w') as outfile:\n",
    "    reader = DictReader(infile)\n",
    "    index = 0\n",
    "    for row in reader:\n",
    "        title = row[\"category\"]\n",
    "        if title == \"\": break\n",
    "        find_index = check_title(mydictionary, title)\n",
    "        if find_index != -1:\n",
    "            part = \"Part \" + str(find_index)\n",
    "            mydictionary[part][\"problems\"].append({\n",
    "                \"yes\": row[\"yes\"],\n",
    "                \"no\": row[\"no\"],\n",
    "                \"point\": int(row[\"point\"])\n",
    "            })\n",
    "        else:\n",
    "            part = \"Part \" + str(index)\n",
    "            mydictionary[part] = {}\n",
    "            mydictionary[part][\"title\"] = title\n",
    "            mydictionary[part][\"problems\"] = []\n",
    "            mydictionary[part][\"problems\"].append({\n",
    "                \"yes\": row[\"yes\"],\n",
    "                \"no\": row[\"no\"],\n",
    "                \"point\": int(row[\"point\"])\n",
    "            })\n",
    "            index += 1\n",
    "    \n",
    "json.dumps(mydictionary)\n",
    "\n",
    "with open('a1fall24.json', 'w', encoding='utf-8') as f:\n",
    "    json.dump(mydictionary, f, ensure_ascii=False, indent=4)"
   ]
  },
  {
   "cell_type": "code",
   "execution_count": 7,
   "id": "b34ac056",
   "metadata": {},
   "outputs": [],
   "source": [
    "# json.dumps(mydictionary)"
   ]
  },
  {
   "cell_type": "code",
   "execution_count": 12,
   "id": "18d25b5c",
   "metadata": {},
   "outputs": [],
   "source": [
    "# json.dumps(mydictionary).strip('[]').replace(']', ']]').replace('[', '[[')"
   ]
  },
  {
   "cell_type": "code",
   "execution_count": 22,
   "id": "60f7c2a5",
   "metadata": {},
   "outputs": [],
   "source": [
    "# https://jsonformatter.org/"
   ]
  },
  {
   "cell_type": "code",
   "execution_count": 2,
   "id": "c3670f42",
   "metadata": {},
   "outputs": [],
   "source": [
    "jd = json.dumps(mydictionary).strip('[]').replace(']', ']]').replace('[', '[[')"
   ]
  },
  {
   "cell_type": "code",
   "execution_count": 3,
   "id": "f9fe5bf9",
   "metadata": {},
   "outputs": [
    {
     "data": {
      "text/plain": [
       "'{\"Part 0\": {\"title\": \"Implementation\", \"problems\": [[{\"yes\": \"You have provided your README file and your implementation is accessible. \", \"no\": \"You did not provide a README file but your implementation is not accessible. \", \"point\": 4}, {\"yes\": \"You have provided a READ ONLY link to overleaf for your project report.\", \"no\": \"You did not provide a READ ONLY link to overleaf for your project report.\", \"point\": 2}, {\"yes\": \"You have provided exact commit hash for your GitHub\", \"no\": \"\", \"point\": 2}, {\"yes\": \"Your report is 8 pages.\", \"no\": \"Your report is not 8 pages\", \"point\": 2}, {\"yes\": \"Your graphs/figures are readable. Good job!\", \"no\": \"Your figures/graphs are not readable\", \"point\": 2}]]}, \"Part 1\": {\"title\": \"Problem description\", \"problems\": [[{\"yes\": \"You have chosesn two datasets for your analysis.\", \"no\": \"You did not select two datasets for your analysis\", \"point\": 2}, {\"yes\": \"You described why your datasets are interesting in ML perspective\", \"no\": \"You did not describe why your datasets are interesting in ML perspective\", \"point\": 4}, {\"yes\": \"You have presented your motivation for the data comparison.\", \"no\": \"You did not present your motivation for the data comparison.\", \"point\": 4}]]}, \"Part 2\": {\"title\": \"Hypothesis\", \"problems\": [[{\"yes\": \"You have stated your initial hypotheses.\", \"no\": \"You needed to state your initial hypotheses.\", \"point\": 2}, {\"yes\": \"You have justified your hypotheses explicitly.\", \"no\": \"You did not justify your hypotheses explicitly.\", \"point\": 2}, {\"yes\": \"You followed up with the hypothesis in your discusssion/conclusion.\", \"no\": \"You cannot just state a hypothesis since it needs to follow through from a narrative perspective at the end of your report.\", \"point\": 2}, {\"yes\": \"You have provided direct evidence to support whether your hypothesis has been met.\", \"no\": \"You didn\\'t provide a direct evidence to support whether your hypothesis has been met.\", \"point\": 2}]]}, \"Part 3\": {\"title\": \"NN \", \"problems\": [[{\"yes\": \"You showed valid results for Learning Complexity (LC) curves. \", \"no\": \"You did not show valid results for Learning Complexity (LC) curves. \", \"point\": 2}, {\"yes\": \"You provided extensive analysis of results on Learning Complexity (LC) curves.\", \"no\": \"You did not provide extensive analysis of results on Learning Complexity (LC) curves.\", \"point\": 4}, {\"yes\": \"You showed valid results for Model Complexity (MC) curves. \", \"no\": \"You did not show valid results for Model Complexity (MC) curves. \", \"point\": 2}]]}, \"Part 4\": {\"title\": \"NN\", \"problems\": [[{\"yes\": \"You provided extensive analysis of results on Model Complexity (MC) curves.\", \"no\": \"You did not provide extensive analysis of results on Model Complexity (MC) curves.\", \"point\": 4}, {\"yes\": \"You pointed out bias or variance in plot. You also provided extensive analysis, including 3 or more ways to show evidence/discussion on the bias and variance. \", \"no\": \"Missing analysis or no plot provided to analyze bias/variance\", \"point\": 8}]]}, \"Part 5\": {\"title\": \"SVM\", \"problems\": [[{\"yes\": \"You showed valid results for Learning Complexity (LC) curves. \", \"no\": \"You did not show valid results for Learning Complexity (LC) curves. \", \"point\": 2}, {\"yes\": \"You provided extensive analysis of results on Learning Complexity (LC) curves.\", \"no\": \"You did not provide extensive analysis of results on Learning Complexity (LC) curves.\", \"point\": 4}, {\"yes\": \"You showed valid results for Model Complexity (MC) curves. \", \"no\": \"You did not show valid results for Model Complexity (MC) curves. \", \"point\": 2}, {\"yes\": \"You provided extensive analysis of results on Model Complexity (MC) curves.\", \"no\": \"You did not provide extensive analysis of results on Model Complexity (MC) curves.\", \"point\": 4}, {\"yes\": \"You pointed out bias or variance in plot. You also provided extensive analysis, including 3 or more ways to show evidence/discussion on the bias and variance. \", \"no\": \"Missing analysis or no plot provided to analyze bias/variance\", \"point\": 8}]]}, \"Part 6\": {\"title\": \"KNN\", \"problems\": [[{\"yes\": \"You showed valid results for Learning Complexity (LC) curves. \", \"no\": \"You did not show valid results for Learning Complexity (LC) curves. \", \"point\": 2}, {\"yes\": \"You provided extensive analysis of results on Learning Complexity (LC) curves.\", \"no\": \"You did not provide extensive analysis of results on Learning Complexity (LC) curves.\", \"point\": 4}, {\"yes\": \"You showed valid results for Model Complexity (MC) curves. \", \"no\": \"You did not show valid results for Model Complexity (MC) curves. \", \"point\": 2}, {\"yes\": \"You provided extensive analysis of results on Model Complexity (MC) curves.\", \"no\": \"You did not provide extensive analysis of results on Model Complexity (MC) curves.\", \"point\": 4}, {\"yes\": \"You pointed out bias or variance in plot. You also provided extensive analysis, including 3 or more ways to show evidence/discussion on the bias and variance. \", \"no\": \"Missing analysis or no plot provided to analyze bias/variance\", \"point\": 8}]]}, \"Part 7\": {\"title\": \"Conclusion\", \"problems\": [[{\"yes\": \"You have provided an overall comparison between your runs on each data set. You considered Type I and Type II errors. \", \"no\": \"You did not provided an overall comparison between your runs on each data set. You also did not consider Type I and Type II errors. \", \"point\": 2}, {\"yes\": \"You have provided some discussion on accuracies/performances of different ML algorithms using wall clock times.\", \"no\": \"You have not provide a detailed discussion on accuracies/performances of different ML algorithms using wall clock times.\", \"point\": 2}, {\"yes\": \"You also provided some discussion on performances: noise and number of sample needed to learn efectively. \", \"no\": \"You needed to provide a detailed discussion on performances: noise and number of sample needed to learn efectively. \", \"point\": 2}, {\"yes\": \"You have provided some discussion on different ML algorithms: time and space complexity, and sensitivity to tuning.\", \"no\": \"You did not provide a detailed discussion on different ML algorithms: time and space complexity, and sensitivity to tuning.\", \"point\": 2}, {\"yes\": \"You also provided some discussion to show a broad understanding.\", \"no\": \"You also needed some discussion to show a broad understanding. \", \"point\": 2}]]}, \"Part 8\": {\"title\": \"EC\", \"problems\": [[{\"yes\": \"Decision Trees are implemented with comprehensive analysis that adds significant insights into the datesets and theoretical implications. Adaboost will be used.\", \"no\": \"Did not implement Decision Trees or Boosting. \", \"point\": 5}]]}}'"
      ]
     },
     "execution_count": 3,
     "metadata": {},
     "output_type": "execute_result"
    }
   ],
   "source": [
    "jd"
   ]
  },
  {
   "cell_type": "code",
   "execution_count": 4,
   "id": "1eb0df29",
   "metadata": {},
   "outputs": [
    {
     "data": {
      "text/plain": [
       "{'Part 0': {'title': 'Implementation',\n",
       "  'problems': [[{'yes': 'You have provided your README file and your implementation is accessible. ',\n",
       "     'no': 'You did not provide a README file but your implementation is not accessible. ',\n",
       "     'point': 4},\n",
       "    {'yes': 'You have provided a READ ONLY link to overleaf for your project report.',\n",
       "     'no': 'You did not provide a READ ONLY link to overleaf for your project report.',\n",
       "     'point': 2},\n",
       "    {'yes': 'You have provided exact commit hash for your GitHub',\n",
       "     'no': '',\n",
       "     'point': 2},\n",
       "    {'yes': 'Your report is 8 pages.',\n",
       "     'no': 'Your report is not 8 pages',\n",
       "     'point': 2},\n",
       "    {'yes': 'Your graphs/figures are readable. Good job!',\n",
       "     'no': 'Your figures/graphs are not readable',\n",
       "     'point': 2}]]},\n",
       " 'Part 1': {'title': 'Problem description',\n",
       "  'problems': [[{'yes': 'You have chosesn two datasets for your analysis.',\n",
       "     'no': 'You did not select two datasets for your analysis',\n",
       "     'point': 2},\n",
       "    {'yes': 'You described why your datasets are interesting in ML perspective',\n",
       "     'no': 'You did not describe why your datasets are interesting in ML perspective',\n",
       "     'point': 4},\n",
       "    {'yes': 'You have presented your motivation for the data comparison.',\n",
       "     'no': 'You did not present your motivation for the data comparison.',\n",
       "     'point': 4}]]},\n",
       " 'Part 2': {'title': 'Hypothesis',\n",
       "  'problems': [[{'yes': 'You have stated your initial hypotheses.',\n",
       "     'no': 'You needed to state your initial hypotheses.',\n",
       "     'point': 2},\n",
       "    {'yes': 'You have justified your hypotheses explicitly.',\n",
       "     'no': 'You did not justify your hypotheses explicitly.',\n",
       "     'point': 2},\n",
       "    {'yes': 'You followed up with the hypothesis in your discusssion/conclusion.',\n",
       "     'no': 'You cannot just state a hypothesis since it needs to follow through from a narrative perspective at the end of your report.',\n",
       "     'point': 2},\n",
       "    {'yes': 'You have provided direct evidence to support whether your hypothesis has been met.',\n",
       "     'no': \"You didn't provide a direct evidence to support whether your hypothesis has been met.\",\n",
       "     'point': 2}]]},\n",
       " 'Part 3': {'title': 'NN ',\n",
       "  'problems': [[{'yes': 'You showed valid results for Learning Complexity (LC) curves. ',\n",
       "     'no': 'You did not show valid results for Learning Complexity (LC) curves. ',\n",
       "     'point': 2},\n",
       "    {'yes': 'You provided extensive analysis of results on Learning Complexity (LC) curves.',\n",
       "     'no': 'You did not provide extensive analysis of results on Learning Complexity (LC) curves.',\n",
       "     'point': 4},\n",
       "    {'yes': 'You showed valid results for Model Complexity (MC) curves. ',\n",
       "     'no': 'You did not show valid results for Model Complexity (MC) curves. ',\n",
       "     'point': 2}]]},\n",
       " 'Part 4': {'title': 'NN',\n",
       "  'problems': [[{'yes': 'You provided extensive analysis of results on Model Complexity (MC) curves.',\n",
       "     'no': 'You did not provide extensive analysis of results on Model Complexity (MC) curves.',\n",
       "     'point': 4},\n",
       "    {'yes': 'You pointed out bias or variance in plot. You also provided extensive analysis, including 3 or more ways to show evidence/discussion on the bias and variance. ',\n",
       "     'no': 'Missing analysis or no plot provided to analyze bias/variance',\n",
       "     'point': 8}]]},\n",
       " 'Part 5': {'title': 'SVM',\n",
       "  'problems': [[{'yes': 'You showed valid results for Learning Complexity (LC) curves. ',\n",
       "     'no': 'You did not show valid results for Learning Complexity (LC) curves. ',\n",
       "     'point': 2},\n",
       "    {'yes': 'You provided extensive analysis of results on Learning Complexity (LC) curves.',\n",
       "     'no': 'You did not provide extensive analysis of results on Learning Complexity (LC) curves.',\n",
       "     'point': 4},\n",
       "    {'yes': 'You showed valid results for Model Complexity (MC) curves. ',\n",
       "     'no': 'You did not show valid results for Model Complexity (MC) curves. ',\n",
       "     'point': 2},\n",
       "    {'yes': 'You provided extensive analysis of results on Model Complexity (MC) curves.',\n",
       "     'no': 'You did not provide extensive analysis of results on Model Complexity (MC) curves.',\n",
       "     'point': 4},\n",
       "    {'yes': 'You pointed out bias or variance in plot. You also provided extensive analysis, including 3 or more ways to show evidence/discussion on the bias and variance. ',\n",
       "     'no': 'Missing analysis or no plot provided to analyze bias/variance',\n",
       "     'point': 8}]]},\n",
       " 'Part 6': {'title': 'KNN',\n",
       "  'problems': [[{'yes': 'You showed valid results for Learning Complexity (LC) curves. ',\n",
       "     'no': 'You did not show valid results for Learning Complexity (LC) curves. ',\n",
       "     'point': 2},\n",
       "    {'yes': 'You provided extensive analysis of results on Learning Complexity (LC) curves.',\n",
       "     'no': 'You did not provide extensive analysis of results on Learning Complexity (LC) curves.',\n",
       "     'point': 4},\n",
       "    {'yes': 'You showed valid results for Model Complexity (MC) curves. ',\n",
       "     'no': 'You did not show valid results for Model Complexity (MC) curves. ',\n",
       "     'point': 2},\n",
       "    {'yes': 'You provided extensive analysis of results on Model Complexity (MC) curves.',\n",
       "     'no': 'You did not provide extensive analysis of results on Model Complexity (MC) curves.',\n",
       "     'point': 4},\n",
       "    {'yes': 'You pointed out bias or variance in plot. You also provided extensive analysis, including 3 or more ways to show evidence/discussion on the bias and variance. ',\n",
       "     'no': 'Missing analysis or no plot provided to analyze bias/variance',\n",
       "     'point': 8}]]},\n",
       " 'Part 7': {'title': 'Conclusion',\n",
       "  'problems': [[{'yes': 'You have provided an overall comparison between your runs on each data set. You considered Type I and Type II errors. ',\n",
       "     'no': 'You did not provided an overall comparison between your runs on each data set. You also did not consider Type I and Type II errors. ',\n",
       "     'point': 2},\n",
       "    {'yes': 'You have provided some discussion on accuracies/performances of different ML algorithms using wall clock times.',\n",
       "     'no': 'You have not provide a detailed discussion on accuracies/performances of different ML algorithms using wall clock times.',\n",
       "     'point': 2},\n",
       "    {'yes': 'You also provided some discussion on performances: noise and number of sample needed to learn efectively. ',\n",
       "     'no': 'You needed to provide a detailed discussion on performances: noise and number of sample needed to learn efectively. ',\n",
       "     'point': 2},\n",
       "    {'yes': 'You have provided some discussion on different ML algorithms: time and space complexity, and sensitivity to tuning.',\n",
       "     'no': 'You did not provide a detailed discussion on different ML algorithms: time and space complexity, and sensitivity to tuning.',\n",
       "     'point': 2},\n",
       "    {'yes': 'You also provided some discussion to show a broad understanding.',\n",
       "     'no': 'You also needed some discussion to show a broad understanding. ',\n",
       "     'point': 2}]]},\n",
       " 'Part 8': {'title': 'EC',\n",
       "  'problems': [[{'yes': 'Decision Trees are implemented with comprehensive analysis that adds significant insights into the datesets and theoretical implications. Adaboost will be used.',\n",
       "     'no': 'Did not implement Decision Trees or Boosting. ',\n",
       "     'point': 5}]]}}"
      ]
     },
     "execution_count": 4,
     "metadata": {},
     "output_type": "execute_result"
    }
   ],
   "source": [
    "json.loads(jd)"
   ]
  },
  {
   "cell_type": "code",
   "execution_count": 6,
   "id": "345ac32c",
   "metadata": {},
   "outputs": [],
   "source": [
    "with open('a1fall24.json', 'w', encoding='utf-8') as f:\n",
    "    json.dump(json.loads(jd), f, ensure_ascii=False, indent=4)"
   ]
  },
  {
   "cell_type": "code",
   "execution_count": null,
   "id": "3b3bc500",
   "metadata": {},
   "outputs": [],
   "source": []
  },
  {
   "cell_type": "code",
   "execution_count": null,
   "id": "b122c923",
   "metadata": {},
   "outputs": [],
   "source": []
  },
  {
   "cell_type": "code",
   "execution_count": null,
   "id": "504f1802",
   "metadata": {},
   "outputs": [],
   "source": []
  }
 ],
 "metadata": {
  "kernelspec": {
   "display_name": "Python 3 (ipykernel)",
   "language": "python",
   "name": "python3"
  },
  "language_info": {
   "codemirror_mode": {
    "name": "ipython",
    "version": 3
   },
   "file_extension": ".py",
   "mimetype": "text/x-python",
   "name": "python",
   "nbconvert_exporter": "python",
   "pygments_lexer": "ipython3",
   "version": "3.10.2"
  }
 },
 "nbformat": 4,
 "nbformat_minor": 5
}
