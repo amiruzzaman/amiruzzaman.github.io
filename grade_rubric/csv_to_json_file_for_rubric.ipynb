{
 "cells": [
  {
   "cell_type": "code",
   "execution_count": 131,
   "id": "3748c72f",
   "metadata": {},
   "outputs": [],
   "source": [
    "with open('parn.json', 'w', encoding='utf-8') as f:\n",
    "    json.dump(mydictionary, f, ensure_ascii=False, indent=4)"
   ]
  },
  {
   "cell_type": "code",
   "execution_count": 138,
   "id": "77274cad",
   "metadata": {},
   "outputs": [],
   "source": [
    "from csv import DictReader, DictWriter\n",
    "import json\n",
    "\n",
    "def check_title(my_dict, title):\n",
    "    index = 0\n",
    "    for key, value in my_dict.items():\n",
    "        if my_dict[key][\"title\"] == title:\n",
    "            return index\n",
    "        index += 1\n",
    "    return -1\n",
    "        \n",
    "\n",
    "mydictionary = {}\n",
    "with open('A2_rubric_summer2024.csv', 'r') as infile: #, open('outfile.csv', 'w') as outfile:\n",
    "    reader = DictReader(infile)\n",
    "    index = 0\n",
    "    for row in reader:\n",
    "        title = row[\"category\"]\n",
    "        if title == \"\": break\n",
    "        find_index = check_title(mydictionary, title)\n",
    "        if find_index != -1:\n",
    "            part = \"Part \" + str(find_index)\n",
    "            mydictionary[part][\"problems\"].append({\n",
    "                \"yes\": row[\"yes\"],\n",
    "                \"no\": row[\"no\"],\n",
    "                \"point\": int(row[\"point\"])\n",
    "            })\n",
    "        else:\n",
    "            part = \"Part \" + str(index)\n",
    "            mydictionary[part] = {}\n",
    "            mydictionary[part][\"title\"] = title\n",
    "            mydictionary[part][\"problems\"] = []\n",
    "            mydictionary[part][\"problems\"].append({\n",
    "                \"yes\": row[\"yes\"],\n",
    "                \"no\": row[\"no\"],\n",
    "                \"point\": int(row[\"point\"])\n",
    "            })\n",
    "            index += 1\n",
    "    \n",
    "json.dumps(mydictionary)\n",
    "\n",
    "with open('a2summer.json', 'w', encoding='utf-8') as f:\n",
    "    json.dump(mydictionary, f, ensure_ascii=False, indent=4)"
   ]
  },
  {
   "cell_type": "code",
   "execution_count": 139,
   "id": "b34ac056",
   "metadata": {},
   "outputs": [
    {
     "data": {
      "text/plain": [
       "'{\"Part 0\": {\"title\": \"Implementation\", \"problems\": [{\"yes\": \"You have provided your README file and your implementation is accessisible \", \"no\": \"You did not provide a README file but your implementation is not accessisible \", \"point\": 5}, {\"yes\": \"You have provided a READ ONLY link to overleaf for your project report.\", \"no\": \"You did not provide a READ ONLY link to overleaf for your project report.\", \"point\": 5}]}, \"Part 1\": {\"title\": \"Hypothesis\", \"problems\": [{\"yes\": \"You have included hypothesis/hypotheses\", \"no\": \"We wanted to see hypothesis/hypotheses. You did not include any hypothesis/hypotheses in your report. \", \"point\": 4}, {\"yes\": \"You have justified the need for your hypothesis.\", \"no\": \"We wanted to see why the hypothesis/hypotheses needed. You could have explained how the hypothesis/hypotheses provides some insight on the results and discussions. \", \"point\": 2}]}, \"Part 2\": {\"title\": \"NN Weight Optimization-1\", \"problems\": [{\"yes\": \"You have explained why you got this result. \", \"no\": \"You did not explained why you got this result.\", \"point\": 3}, {\"yes\": \"You have included the hyperparameters and their impact on algorithmic behavior as well as hypothesize about improvements.\", \"no\": \"We want to see more on your analysis of hyperparameters and hypothesize about improvements.\", \"point\": 4}, {\"yes\": \"Nice comparison based on performance and time for backprop vs RO as well as explained the reason why backprop or RO performed better.\", \"no\": \"You need to compares performance and time for backprop vs RO and explains why backprop or RO performed better.\", \"point\": 2}]}, \"Part 3\": {\"title\": \"NN Weight Optimization-2\", \"problems\": [{\"yes\": \"You have explained why you got this result. \", \"no\": \"You did not explained why you got this result.\", \"point\": 3}, {\"yes\": \"You have included the hyperparameters and their impact on algorithmic behavior as well as hypothesize about improvements.\", \"no\": \"We want to see more on your analysis of hyperparameters and hypothesize about improvements.\", \"point\": 4}, {\"yes\": \"Nice comparison based on performance and time for backprop vs RO as well as explained the reason why backprop or RO performed better.\", \"no\": \"You need to compares performance and time for backprop vs RO and explains why backprop or RO performed better.\", \"point\": 2}]}, \"Part 4\": {\"title\": \"NN Weight Optimization-3\", \"problems\": [{\"yes\": \"You have explained why you got this result. \", \"no\": \"You did not explained why you got this result.\", \"point\": 3}, {\"yes\": \"You have included the hyperparameters and their impact on algorithmic behavior as well as hypothesize about improvements.\", \"no\": \"We want to see more on your analysis of hyperparameters and hypothesize about improvements.\", \"point\": 4}, {\"yes\": \"Nice comparison based on performance and time for backprop vs RO as well as explained the reason why backprop or RO performed better.\", \"no\": \"You need to compares performance and time for backprop vs RO and explains why backprop or RO performed better.\", \"point\": 2}]}, \"Part 5\": {\"title\": \"Discrete Optimization Problems-First\", \"problems\": [{\"yes\": \"You have explained why the problems are interesting from an ML prespective.\", \"no\": \"You need to explain why the problems are interesting from an ML prespective.\", \"point\": 3}, {\"yes\": \"You explained results in context by connecting back to 3 algorithm, hyperparameters, and problem selection.\", \"no\": \"You need to explain results in context by connecting back to 3 algorithm, hyperparameters, and problem selection.\", \"point\": 6}, {\"yes\": \"You did explain performance vs. iterations based on plot/table.\", \"no\": \"You did not provide plot/table to show performance vs. iterations results.\", \"point\": 3}, {\"yes\": \"You did explain performance vs. size of problem based on plot/table.\", \"no\": \"You did not provide plot/table to show performance vs. size of problem results.\", \"point\": 3}, {\"yes\": \"Nice explanation on the convergence criterion and behavior.\", \"no\": \"You will need to include the convergence criterion and behavior.\", \"point\": 3}, {\"yes\": \"Nice addition on the improvements, such as extensive hyperparameter exploration, modifying algorithm behavior, adding domain knowledge, etc.\", \"no\": \"No evidence of the improvements, such as extensive hyperparameter exploration, modifying algorithm behavior, adding domain knowledge, etc.\", \"point\": 3}, {\"yes\": \"This report shows creativity. \", \"no\": \"This report lacked creativity. \", \"point\": 4}]}, \"Part 6\": {\"title\": \"Discrete Optimization Problems-Second\", \"problems\": [{\"yes\": \"You have explained why the problems are interesting from an ML prespective.\", \"no\": \"You need to explain why the problems are interesting from an ML prespective.\", \"point\": 3}, {\"yes\": \"You explained results in context by connecting back to 3 algorithm, hyperparameters, and problem selection.\", \"no\": \"You need to explain results in context by connecting back to 3 algorithm, hyperparameters, and problem selection.\", \"point\": 6}, {\"yes\": \"You did explain performance vs. iterations based on plot/table.\", \"no\": \"You did not provide plot/table to show performance vs. iterations results.\", \"point\": 3}, {\"yes\": \"You did explain performance vs. size of problem based on plot/table.\", \"no\": \"You did not provide plot/table to show performance vs. size of problem results.\", \"point\": 3}, {\"yes\": \"Nice explanation on the convergence criterion and behavior.\", \"no\": \"You will need to include the convergence criterion and behavior.\", \"point\": 3}, {\"yes\": \"Nice addition on the improvements, such as extensive hyperparameter exploration, modifying algorithm behavior, adding domain knowledge, etc.\", \"no\": \"No evidence of the improvements, such as extensive hyperparameter exploration, modifying algorithm behavior, adding domain knowledge, etc.\", \"point\": 3}, {\"yes\": \"This report shows creativity. \", \"no\": \"This report lacked creativity. \", \"point\": 4}]}, \"Part 7\": {\"title\": \"Conclusion\", \"problems\": [{\"yes\": \"You concluded to show which algorithm performed best, and why. Also, you included wall clock times, trade-offs, discussion of no free lunch theorem, etc.\", \"no\": \"You did not concluded which algorithm performed best, and why. Also, you included wall clock times, trade-offs, discussion of no free lunch theorem, etc.\", \"point\": 3}]}, \"Part 8\": {\"title\": \"Formatting\", \"problems\": [{\"yes\": \"Images are formatting properly and legible. Also, you provided proper references.\", \"no\": \"Images are not formatting properly and legible. Also, you did not provide proper references.\", \"point\": 4}]}}'"
      ]
     },
     "execution_count": 139,
     "metadata": {},
     "output_type": "execute_result"
    }
   ],
   "source": [
    "json.dumps(mydictionary)"
   ]
  },
  {
   "cell_type": "code",
   "execution_count": 141,
   "id": "18d25b5c",
   "metadata": {},
   "outputs": [
    {
     "data": {
      "text/plain": [
       "'{\"Part 0\": {\"title\": \"Implementation\", \"problems\": [[{\"yes\": \"You have provided your README file and your implementation is accessisible \", \"no\": \"You did not provide a README file but your implementation is not accessisible \", \"point\": 5}, {\"yes\": \"You have provided a READ ONLY link to overleaf for your project report.\", \"no\": \"You did not provide a READ ONLY link to overleaf for your project report.\", \"point\": 5}]]}, \"Part 1\": {\"title\": \"Hypothesis\", \"problems\": [[{\"yes\": \"You have included hypothesis/hypotheses\", \"no\": \"We wanted to see hypothesis/hypotheses. You did not include any hypothesis/hypotheses in your report. \", \"point\": 4}, {\"yes\": \"You have justified the need for your hypothesis.\", \"no\": \"We wanted to see why the hypothesis/hypotheses needed. You could have explained how the hypothesis/hypotheses provides some insight on the results and discussions. \", \"point\": 2}]]}, \"Part 2\": {\"title\": \"NN Weight Optimization-1\", \"problems\": [[{\"yes\": \"You have explained why you got this result. \", \"no\": \"You did not explained why you got this result.\", \"point\": 3}, {\"yes\": \"You have included the hyperparameters and their impact on algorithmic behavior as well as hypothesize about improvements.\", \"no\": \"We want to see more on your analysis of hyperparameters and hypothesize about improvements.\", \"point\": 4}, {\"yes\": \"Nice comparison based on performance and time for backprop vs RO as well as explained the reason why backprop or RO performed better.\", \"no\": \"You need to compares performance and time for backprop vs RO and explains why backprop or RO performed better.\", \"point\": 2}]]}, \"Part 3\": {\"title\": \"NN Weight Optimization-2\", \"problems\": [[{\"yes\": \"You have explained why you got this result. \", \"no\": \"You did not explained why you got this result.\", \"point\": 3}, {\"yes\": \"You have included the hyperparameters and their impact on algorithmic behavior as well as hypothesize about improvements.\", \"no\": \"We want to see more on your analysis of hyperparameters and hypothesize about improvements.\", \"point\": 4}, {\"yes\": \"Nice comparison based on performance and time for backprop vs RO as well as explained the reason why backprop or RO performed better.\", \"no\": \"You need to compares performance and time for backprop vs RO and explains why backprop or RO performed better.\", \"point\": 2}]]}, \"Part 4\": {\"title\": \"NN Weight Optimization-3\", \"problems\": [[{\"yes\": \"You have explained why you got this result. \", \"no\": \"You did not explained why you got this result.\", \"point\": 3}, {\"yes\": \"You have included the hyperparameters and their impact on algorithmic behavior as well as hypothesize about improvements.\", \"no\": \"We want to see more on your analysis of hyperparameters and hypothesize about improvements.\", \"point\": 4}, {\"yes\": \"Nice comparison based on performance and time for backprop vs RO as well as explained the reason why backprop or RO performed better.\", \"no\": \"You need to compares performance and time for backprop vs RO and explains why backprop or RO performed better.\", \"point\": 2}]]}, \"Part 5\": {\"title\": \"Discrete Optimization Problems-First\", \"problems\": [[{\"yes\": \"You have explained why the problems are interesting from an ML prespective.\", \"no\": \"You need to explain why the problems are interesting from an ML prespective.\", \"point\": 3}, {\"yes\": \"You explained results in context by connecting back to 3 algorithm, hyperparameters, and problem selection.\", \"no\": \"You need to explain results in context by connecting back to 3 algorithm, hyperparameters, and problem selection.\", \"point\": 6}, {\"yes\": \"You did explain performance vs. iterations based on plot/table.\", \"no\": \"You did not provide plot/table to show performance vs. iterations results.\", \"point\": 3}, {\"yes\": \"You did explain performance vs. size of problem based on plot/table.\", \"no\": \"You did not provide plot/table to show performance vs. size of problem results.\", \"point\": 3}, {\"yes\": \"Nice explanation on the convergence criterion and behavior.\", \"no\": \"You will need to include the convergence criterion and behavior.\", \"point\": 3}, {\"yes\": \"Nice addition on the improvements, such as extensive hyperparameter exploration, modifying algorithm behavior, adding domain knowledge, etc.\", \"no\": \"No evidence of the improvements, such as extensive hyperparameter exploration, modifying algorithm behavior, adding domain knowledge, etc.\", \"point\": 3}, {\"yes\": \"This report shows creativity. \", \"no\": \"This report lacked creativity. \", \"point\": 4}]]}, \"Part 6\": {\"title\": \"Discrete Optimization Problems-Second\", \"problems\": [[{\"yes\": \"You have explained why the problems are interesting from an ML prespective.\", \"no\": \"You need to explain why the problems are interesting from an ML prespective.\", \"point\": 3}, {\"yes\": \"You explained results in context by connecting back to 3 algorithm, hyperparameters, and problem selection.\", \"no\": \"You need to explain results in context by connecting back to 3 algorithm, hyperparameters, and problem selection.\", \"point\": 6}, {\"yes\": \"You did explain performance vs. iterations based on plot/table.\", \"no\": \"You did not provide plot/table to show performance vs. iterations results.\", \"point\": 3}, {\"yes\": \"You did explain performance vs. size of problem based on plot/table.\", \"no\": \"You did not provide plot/table to show performance vs. size of problem results.\", \"point\": 3}, {\"yes\": \"Nice explanation on the convergence criterion and behavior.\", \"no\": \"You will need to include the convergence criterion and behavior.\", \"point\": 3}, {\"yes\": \"Nice addition on the improvements, such as extensive hyperparameter exploration, modifying algorithm behavior, adding domain knowledge, etc.\", \"no\": \"No evidence of the improvements, such as extensive hyperparameter exploration, modifying algorithm behavior, adding domain knowledge, etc.\", \"point\": 3}, {\"yes\": \"This report shows creativity. \", \"no\": \"This report lacked creativity. \", \"point\": 4}]]}, \"Part 7\": {\"title\": \"Conclusion\", \"problems\": [[{\"yes\": \"You concluded to show which algorithm performed best, and why. Also, you included wall clock times, trade-offs, discussion of no free lunch theorem, etc.\", \"no\": \"You did not concluded which algorithm performed best, and why. Also, you included wall clock times, trade-offs, discussion of no free lunch theorem, etc.\", \"point\": 3}]]}, \"Part 8\": {\"title\": \"Formatting\", \"problems\": [[{\"yes\": \"Images are formatting properly and legible. Also, you provided proper references.\", \"no\": \"Images are not formatting properly and legible. Also, you did not provide proper references.\", \"point\": 4}]]}}'"
      ]
     },
     "execution_count": 141,
     "metadata": {},
     "output_type": "execute_result"
    }
   ],
   "source": [
    "json.dumps(mydictionary).strip('[]').replace(']', ']]').replace('[', '[[')"
   ]
  },
  {
   "cell_type": "code",
   "execution_count": null,
   "id": "f039c92d",
   "metadata": {},
   "outputs": [],
   "source": []
  },
  {
   "cell_type": "code",
   "execution_count": null,
   "id": "791a9e78",
   "metadata": {},
   "outputs": [],
   "source": []
  },
  {
   "cell_type": "code",
   "execution_count": null,
   "id": "c11c4dfb",
   "metadata": {},
   "outputs": [],
   "source": []
  },
  {
   "cell_type": "code",
   "execution_count": null,
   "id": "749a6ed0",
   "metadata": {},
   "outputs": [],
   "source": []
  },
  {
   "cell_type": "code",
   "execution_count": null,
   "id": "e52cbe94",
   "metadata": {},
   "outputs": [],
   "source": []
  },
  {
   "cell_type": "code",
   "execution_count": null,
   "id": "8d019430",
   "metadata": {},
   "outputs": [],
   "source": []
  },
  {
   "cell_type": "code",
   "execution_count": null,
   "id": "9b118ce7",
   "metadata": {},
   "outputs": [],
   "source": []
  },
  {
   "cell_type": "code",
   "execution_count": null,
   "id": "b4bc307d",
   "metadata": {},
   "outputs": [],
   "source": []
  },
  {
   "cell_type": "code",
   "execution_count": null,
   "id": "5be92289",
   "metadata": {},
   "outputs": [],
   "source": []
  },
  {
   "cell_type": "code",
   "execution_count": null,
   "id": "790e9818",
   "metadata": {},
   "outputs": [],
   "source": []
  },
  {
   "cell_type": "code",
   "execution_count": null,
   "id": "841d1d47",
   "metadata": {},
   "outputs": [],
   "source": []
  },
  {
   "cell_type": "code",
   "execution_count": null,
   "id": "7d74e61b",
   "metadata": {},
   "outputs": [],
   "source": []
  },
  {
   "cell_type": "code",
   "execution_count": null,
   "id": "6c68aae4",
   "metadata": {},
   "outputs": [],
   "source": []
  },
  {
   "cell_type": "code",
   "execution_count": null,
   "id": "ea742078",
   "metadata": {},
   "outputs": [],
   "source": []
  },
  {
   "cell_type": "code",
   "execution_count": null,
   "id": "5da847bd",
   "metadata": {},
   "outputs": [],
   "source": []
  },
  {
   "cell_type": "code",
   "execution_count": null,
   "id": "abba4409",
   "metadata": {},
   "outputs": [],
   "source": []
  },
  {
   "cell_type": "code",
   "execution_count": null,
   "id": "640deb15",
   "metadata": {},
   "outputs": [],
   "source": []
  },
  {
   "cell_type": "code",
   "execution_count": 69,
   "id": "908370da",
   "metadata": {},
   "outputs": [
    {
     "name": "stdout",
     "output_type": "stream",
     "text": [
      "{'yes': 'Your README file is present and code for implementation is accessible.', 'no': 'You did not provide README file and your code is not accessisible', 'point': '5'}\n",
      "{'Implementation': 'Implementation'}\n",
      "\n",
      "\n",
      "{'yes': 'You provided a READ ONLY link to Overleaf using your submission', 'no': 'You did not provide READ ONLY link to your Overleaf report', 'point': '5'}\n",
      "{'yes': 'You provided information about two dataset.', 'no': 'You did not provided detailed information about two datasets. It was required that two datasets were chosen for this assignment. ', 'point': '2'}\n",
      "{'Implementation': 'Implementation', 'Problem Description': 'Problem Description'}\n",
      "\n",
      "\n",
      "{'yes': 'You described how each dataset is interesting from an ML prespective. ', 'no': 'You needed to describe each dataset in detail (especially why they were interesting from and ML prespective).', 'point': '2'}\n",
      "{'yes': 'You described the underlying structure of each problems (sample sizes; number of features; class imbalance; data type: continuous and categorical; presence of noise)', 'no': 'You did not describe the underlying structure of each problem. We wanted to know: sample sizes; number of features; class imbalance; data type: continuous and categorical; presence of noise.', 'point': '2'}\n",
      "{'yes': 'You explained why your datasets may produce different results when run against the same set of ML algorithms', 'no': 'You did not explain why your datasets may produce different results when run against the same set of ML algorithms', 'point': '6'}\n",
      "{'yes': 'You provided some discussion on learing complexity (LC) ', 'no': 'You needed to provide some discussion on learing complexity (LC) ', 'point': '8'}\n",
      "{'Implementation': 'Implementation', 'Problem Description': 'Problem Description', 'Problem Analysis (NN)': 'Problem Analysis (NN)'}\n",
      "\n",
      "\n",
      "{'yes': 'You aded model complexity', 'no': 'You needed to provide some discussion on model complexity', 'point': '8'}\n",
      "{'yes': 'You also provided some plots', 'no': 'Your report lacks on plots from your analysis', 'point': '8'}\n",
      "{'yes': 'You provided some discussion on learing complexity (LC) ', 'no': 'You needed to provide some discussion on learing complexity (LC) ', 'point': '8'}\n",
      "{'Implementation': 'Implementation', 'Problem Description': 'Problem Description', 'Problem Analysis (NN)': 'Problem Analysis (NN)', 'Problem Analysis (SVM)': 'Problem Analysis (SVM)'}\n",
      "\n",
      "\n",
      "{'yes': 'You aded model complexity', 'no': 'You needed to provide some discussion on model complexity', 'point': '8'}\n",
      "{'yes': 'You also provided some plots', 'no': 'Your report lacks on plots from your analysis', 'point': '8'}\n",
      "{'yes': 'You provided some discussion on learing complexity (LC) ', 'no': 'You needed to provide some discussion on learing complexity (LC) ', 'point': '8'}\n",
      "{'Implementation': 'Implementation', 'Problem Description': 'Problem Description', 'Problem Analysis (NN)': 'Problem Analysis (NN)', 'Problem Analysis (SVM)': 'Problem Analysis (SVM)', 'Problem Analysis (KNN)': 'Problem Analysis (KNN)'}\n",
      "\n",
      "\n",
      "{'yes': 'You aded model complexity', 'no': 'You needed to provide some discussion on model complexity', 'point': '8'}\n",
      "{'yes': 'You also provided some plots', 'no': 'Your report lacks on plots from your analysis', 'point': '8'}\n",
      "{'yes': 'You provided some conclusions based on your observations (considered datasets; accuracy; time and space comlexities; features). Also applied broad ideas from leatures (cross-validation; mean absolute error; mean squared errors; overfitting and  underfitting; bias and variance trade-off)', 'no': 'You did not provide detailed conclusions based on your observations. In your conclusions you could have considered accuracy; time and space comlexities; features. Also tie them back with broad ideas from leatures (cross-validation; mean absolute error; mean squared errors; overfitting and  underfitting; bias and variance trade-off).', 'point': '6'}\n",
      "{'Implementation': 'Implementation', 'Problem Description': 'Problem Description', 'Problem Analysis (NN)': 'Problem Analysis (NN)', 'Problem Analysis (SVM)': 'Problem Analysis (SVM)', 'Problem Analysis (KNN)': 'Problem Analysis (KNN)', 'Conclusion': 'Conclusion'}\n",
      "\n",
      "\n"
     ]
    }
   ],
   "source": [
    "from csv import DictReader, DictWriter\n",
    "\n",
    "d = {}\n",
    "with open('A1_csv_summer24.csv', 'r') as infile: #, open('outfile.csv', 'w') as outfile:\n",
    "    reader = DictReader(infile)\n",
    "    for row in reader:\n",
    "        if row[\"yes\"]: # only take the no empty string\n",
    "            print({\"yes\": row[\"yes\"],\n",
    "                       \"no\":row[\"no\"],\n",
    "                       \"point\":row[\"point\"]\n",
    "                       })\n",
    "            if row['category'] not in d:\n",
    "                \n",
    "#                 print({\"yes\": row[\"yes\"],\n",
    "#                        \"no\":row[\"no\"],\n",
    "#                        \"point\":row[\"point\"]\n",
    "#                        })\n",
    "                d[row['category']] = row['category']\n",
    "                print(d)\n",
    "                print(\"\\n\")\n",
    "    \n",
    "        "
   ]
  },
  {
   "cell_type": "code",
   "execution_count": null,
   "id": "78f2a293",
   "metadata": {},
   "outputs": [],
   "source": []
  },
  {
   "cell_type": "code",
   "execution_count": null,
   "id": "1e38c8ed",
   "metadata": {},
   "outputs": [],
   "source": []
  },
  {
   "cell_type": "code",
   "execution_count": 40,
   "id": "e180a4e9",
   "metadata": {},
   "outputs": [],
   "source": [
    "# jj"
   ]
  },
  {
   "cell_type": "code",
   "execution_count": 14,
   "id": "987b32a9",
   "metadata": {},
   "outputs": [],
   "source": [
    "import json\n",
    "\n",
    "with open('test.txt', 'w') as filehandle:\n",
    "    json.dump(j, filehandle)"
   ]
  },
  {
   "cell_type": "code",
   "execution_count": 15,
   "id": "73654d23",
   "metadata": {},
   "outputs": [
    {
     "name": "stdout",
     "output_type": "stream",
     "text": [
      "0             Implementation\n",
      "1                        NaN\n",
      "2        Problem Description\n",
      "3                        NaN\n",
      "4                        NaN\n",
      "5                        NaN\n",
      "6      Problem Analysis (NN)\n",
      "7                        NaN\n",
      "8                        NaN\n",
      "9     Problem Analysis (SVM)\n",
      "10                       NaN\n",
      "11                       NaN\n",
      "12    Problem Analysis (KNN)\n",
      "13                       NaN\n",
      "14                       NaN\n",
      "15                Conclusion\n",
      "16                       NaN\n",
      "17                       NaN\n",
      "18                       NaN\n",
      "19                       NaN\n",
      "Name: category, dtype: object\n"
     ]
    },
    {
     "ename": "ValueError",
     "evalue": "The truth value of a Series is ambiguous. Use a.empty, a.bool(), a.item(), a.any() or a.all().",
     "output_type": "error",
     "traceback": [
      "\u001b[1;31m-------------------------------------------------\u001b[0m",
      "\u001b[1;31mValueError\u001b[0m      Traceback (most recent call last)",
      "\u001b[1;32m~\\AppData\\Local\\Temp/ipykernel_27540/1899244756.py\u001b[0m in \u001b[0;36m<module>\u001b[1;34m\u001b[0m\n\u001b[0;32m      5\u001b[0m \u001b[1;31m#     print(i, df1[column], df1[column][0])\u001b[0m\u001b[1;33m\u001b[0m\u001b[1;33m\u001b[0m\u001b[1;33m\u001b[0m\u001b[0m\n\u001b[0;32m      6\u001b[0m     \u001b[0mprint\u001b[0m\u001b[1;33m(\u001b[0m\u001b[0mdf1\u001b[0m\u001b[1;33m[\u001b[0m\u001b[1;34m'category'\u001b[0m\u001b[1;33m]\u001b[0m\u001b[1;33m)\u001b[0m\u001b[1;33m\u001b[0m\u001b[1;33m\u001b[0m\u001b[0m\n\u001b[1;32m----> 7\u001b[1;33m     \u001b[1;32mif\u001b[0m \u001b[0mdf1\u001b[0m\u001b[1;33m[\u001b[0m\u001b[1;34m'category'\u001b[0m\u001b[1;33m]\u001b[0m \u001b[1;32mnot\u001b[0m \u001b[1;32min\u001b[0m \u001b[0mauxiliaryList\u001b[0m \u001b[1;32mand\u001b[0m \u001b[0mdf1\u001b[0m\u001b[1;33m[\u001b[0m\u001b[1;34m'category'\u001b[0m\u001b[1;33m]\u001b[0m \u001b[1;33m==\u001b[0m \u001b[0mdf1\u001b[0m\u001b[1;33m[\u001b[0m\u001b[1;34m'category'\u001b[0m\u001b[1;33m]\u001b[0m\u001b[1;33m.\u001b[0m\u001b[0mnotna\u001b[0m\u001b[1;33m(\u001b[0m\u001b[1;33m)\u001b[0m \u001b[1;33m:\u001b[0m\u001b[1;33m\u001b[0m\u001b[1;33m\u001b[0m\u001b[0m\n\u001b[0m\u001b[0;32m      8\u001b[0m         \u001b[0mauxiliaryList\u001b[0m\u001b[1;33m.\u001b[0m\u001b[0mappend\u001b[0m\u001b[1;33m(\u001b[0m\u001b[0mdf1\u001b[0m\u001b[1;33m[\u001b[0m\u001b[1;34m'category'\u001b[0m\u001b[1;33m]\u001b[0m\u001b[1;33m)\u001b[0m\u001b[1;33m\u001b[0m\u001b[1;33m\u001b[0m\u001b[0m\n",
      "\u001b[1;32m~\\AppData\\Local\\Programs\\Python\\Python38-32\\lib\\site-packages\\pandas\\core\\generic.py\u001b[0m in \u001b[0;36m__nonzero__\u001b[1;34m(self)\u001b[0m\n\u001b[0;32m   1475\u001b[0m \u001b[1;33m\u001b[0m\u001b[0m\n\u001b[0;32m   1476\u001b[0m     \u001b[1;32mdef\u001b[0m \u001b[0m__nonzero__\u001b[0m\u001b[1;33m(\u001b[0m\u001b[0mself\u001b[0m\u001b[1;33m)\u001b[0m\u001b[1;33m:\u001b[0m\u001b[1;33m\u001b[0m\u001b[1;33m\u001b[0m\u001b[0m\n\u001b[1;32m-> 1477\u001b[1;33m         raise ValueError(\n\u001b[0m\u001b[0;32m   1478\u001b[0m             \u001b[1;34mf\"The truth value of a {type(self).__name__} is ambiguous. \"\u001b[0m\u001b[1;33m\u001b[0m\u001b[1;33m\u001b[0m\u001b[0m\n\u001b[0;32m   1479\u001b[0m             \u001b[1;34m\"Use a.empty, a.bool(), a.item(), a.any() or a.all().\"\u001b[0m\u001b[1;33m\u001b[0m\u001b[1;33m\u001b[0m\u001b[0m\n",
      "\u001b[1;31mValueError\u001b[0m: The truth value of a Series is ambiguous. Use a.empty, a.bool(), a.item(), a.any() or a.all()."
     ]
    }
   ],
   "source": [
    "import numpy as np\n",
    "value = float('nan') \n",
    "auxiliaryList = []\n",
    "for i, column in enumerate(df1):\n",
    "#     print(i, df1[column], df1[column][0])\n",
    "    print(df1['category'])\n",
    "    if df1['category'] not in auxiliaryList and df1['category'] == df1['category'].notna() :\n",
    "        auxiliaryList.append(df1['category'])"
   ]
  },
  {
   "cell_type": "code",
   "execution_count": 16,
   "id": "84152649",
   "metadata": {},
   "outputs": [
    {
     "data": {
      "text/plain": [
       "[]"
      ]
     },
     "execution_count": 16,
     "metadata": {},
     "output_type": "execute_result"
    }
   ],
   "source": [
    "auxiliaryList"
   ]
  },
  {
   "cell_type": "code",
   "execution_count": 18,
   "id": "60ecf753",
   "metadata": {},
   "outputs": [
    {
     "name": "stdout",
     "output_type": "stream",
     "text": [
      "category: Implementation\n",
      "yes: Your README file is present and code for implementation is accessible.\n",
      "no: You did not provide README file and your code is not accessisible\n",
      "point: 5.0\n"
     ]
    }
   ],
   "source": [
    "for name, values in df1.iteritems():\n",
    "    print('{name}: {value}'.format(name=name, value=values[0]))"
   ]
  },
  {
   "cell_type": "code",
   "execution_count": 19,
   "id": "d30f706c",
   "metadata": {},
   "outputs": [
    {
     "ename": "AttributeError",
     "evalue": "'DataFrame' object has no attribute 'points'",
     "output_type": "error",
     "traceback": [
      "\u001b[1;31m-------------------------------------------------\u001b[0m",
      "\u001b[1;31mAttributeError\u001b[0m  Traceback (most recent call last)",
      "\u001b[1;32m~\\AppData\\Local\\Temp/ipykernel_27540/3375436310.py\u001b[0m in \u001b[0;36m<module>\u001b[1;34m\u001b[0m\n\u001b[0;32m      1\u001b[0m \u001b[0mi\u001b[0m \u001b[1;33m=\u001b[0m \u001b[1;36m0\u001b[0m\u001b[1;33m\u001b[0m\u001b[1;33m\u001b[0m\u001b[0m\n\u001b[0;32m      2\u001b[0m \u001b[1;32mfor\u001b[0m \u001b[0mk\u001b[0m\u001b[1;33m,\u001b[0m \u001b[0mg\u001b[0m \u001b[1;32min\u001b[0m \u001b[0mdf1\u001b[0m\u001b[1;33m.\u001b[0m\u001b[0mgroupby\u001b[0m\u001b[1;33m(\u001b[0m\u001b[1;34m'category'\u001b[0m\u001b[1;33m)\u001b[0m\u001b[1;33m:\u001b[0m\u001b[1;33m\u001b[0m\u001b[1;33m\u001b[0m\u001b[0m\n\u001b[1;32m----> 3\u001b[1;33m     \u001b[0mprint\u001b[0m\u001b[1;33m(\u001b[0m\u001b[1;34m\"group\"\u001b[0m\u001b[1;33m+\u001b[0m\u001b[0mstr\u001b[0m\u001b[1;33m(\u001b[0m\u001b[0mi\u001b[0m\u001b[1;33m)\u001b[0m\u001b[1;33m,\u001b[0m \u001b[0mk\u001b[0m\u001b[1;33m,\u001b[0m \u001b[0mg\u001b[0m\u001b[1;33m.\u001b[0m\u001b[0myes\u001b[0m\u001b[1;33m,\u001b[0m \u001b[0mg\u001b[0m\u001b[1;33m.\u001b[0m\u001b[0mno\u001b[0m\u001b[1;33m,\u001b[0m \u001b[0mg\u001b[0m\u001b[1;33m.\u001b[0m\u001b[0mpoints\u001b[0m\u001b[1;33m)\u001b[0m\u001b[1;33m\u001b[0m\u001b[1;33m\u001b[0m\u001b[0m\n\u001b[0m\u001b[0;32m      4\u001b[0m     \u001b[0mi\u001b[0m \u001b[1;33m+=\u001b[0m \u001b[1;36m1\u001b[0m\u001b[1;33m\u001b[0m\u001b[1;33m\u001b[0m\u001b[0m\n",
      "\u001b[1;32m~\\AppData\\Local\\Programs\\Python\\Python38-32\\lib\\site-packages\\pandas\\core\\generic.py\u001b[0m in \u001b[0;36m__getattr__\u001b[1;34m(self, name)\u001b[0m\n\u001b[0;32m   5271\u001b[0m             \u001b[1;32mif\u001b[0m \u001b[0mself\u001b[0m\u001b[1;33m.\u001b[0m\u001b[0m_info_axis\u001b[0m\u001b[1;33m.\u001b[0m\u001b[0m_can_hold_identifiers_and_holds_name\u001b[0m\u001b[1;33m(\u001b[0m\u001b[0mname\u001b[0m\u001b[1;33m)\u001b[0m\u001b[1;33m:\u001b[0m\u001b[1;33m\u001b[0m\u001b[1;33m\u001b[0m\u001b[0m\n\u001b[0;32m   5272\u001b[0m                 \u001b[1;32mreturn\u001b[0m \u001b[0mself\u001b[0m\u001b[1;33m[\u001b[0m\u001b[0mname\u001b[0m\u001b[1;33m]\u001b[0m\u001b[1;33m\u001b[0m\u001b[1;33m\u001b[0m\u001b[0m\n\u001b[1;32m-> 5273\u001b[1;33m             \u001b[1;32mreturn\u001b[0m \u001b[0mobject\u001b[0m\u001b[1;33m.\u001b[0m\u001b[0m__getattribute__\u001b[0m\u001b[1;33m(\u001b[0m\u001b[0mself\u001b[0m\u001b[1;33m,\u001b[0m \u001b[0mname\u001b[0m\u001b[1;33m)\u001b[0m\u001b[1;33m\u001b[0m\u001b[1;33m\u001b[0m\u001b[0m\n\u001b[0m\u001b[0;32m   5274\u001b[0m \u001b[1;33m\u001b[0m\u001b[0m\n\u001b[0;32m   5275\u001b[0m     \u001b[1;32mdef\u001b[0m \u001b[0m__setattr__\u001b[0m\u001b[1;33m(\u001b[0m\u001b[0mself\u001b[0m\u001b[1;33m,\u001b[0m \u001b[0mname\u001b[0m\u001b[1;33m:\u001b[0m \u001b[0mstr\u001b[0m\u001b[1;33m,\u001b[0m \u001b[0mvalue\u001b[0m\u001b[1;33m)\u001b[0m \u001b[1;33m->\u001b[0m \u001b[1;32mNone\u001b[0m\u001b[1;33m:\u001b[0m\u001b[1;33m\u001b[0m\u001b[1;33m\u001b[0m\u001b[0m\n",
      "\u001b[1;31mAttributeError\u001b[0m: 'DataFrame' object has no attribute 'points'"
     ]
    }
   ],
   "source": [
    "i = 0\n",
    "for k, g in df1.groupby('category'):\n",
    "    print(\"group\"+str(i), k, g.yes, g.no, g.points)\n",
    "    i += 1"
   ]
  },
  {
   "cell_type": "code",
   "execution_count": 20,
   "id": "2adc4748",
   "metadata": {},
   "outputs": [
    {
     "ename": "SyntaxError",
     "evalue": "invalid syntax (Temp/ipykernel_27540/3998345634.py, line 6)",
     "output_type": "error",
     "traceback": [
      "\u001b[1;36m  File \u001b[1;32m\"C:\\Users\\mamiruzz\\AppData\\Local\\Temp/ipykernel_27540/3998345634.py\"\u001b[1;36m, line \u001b[1;32m6\u001b[0m\n\u001b[1;33m    \"problems\": {\u001b[0m\n\u001b[1;37m              ^\u001b[0m\n\u001b[1;31mSyntaxError\u001b[0m\u001b[1;31m:\u001b[0m invalid syntax\n"
     ]
    }
   ],
   "source": [
    "records1 = []\n",
    "i = 0\n",
    "for key1, grp1 in df1.groupby('category'):\n",
    "    records1.append({\n",
    "        \"title\":\n",
    "        \"problems\": {\n",
    "        \"yes\": grp1.yes.iloc[0],\n",
    "        \"no\": grp1.no.iloc[0],\n",
    "        \"point\": grp1.points.iloc[0]\n",
    "        }\n",
    "    })\n",
    "    i += 1\n",
    "records1"
   ]
  },
  {
   "cell_type": "code",
   "execution_count": 21,
   "id": "fff6d715",
   "metadata": {},
   "outputs": [
    {
     "ename": "NameError",
     "evalue": "name 'records1' is not defined",
     "output_type": "error",
     "traceback": [
      "\u001b[1;31m-------------------------------------------------\u001b[0m",
      "\u001b[1;31mNameError\u001b[0m       Traceback (most recent call last)",
      "\u001b[1;32m~\\AppData\\Local\\Temp/ipykernel_27540/743705913.py\u001b[0m in \u001b[0;36m<module>\u001b[1;34m\u001b[0m\n\u001b[0;32m      2\u001b[0m \u001b[1;33m\u001b[0m\u001b[0m\n\u001b[0;32m      3\u001b[0m \u001b[1;32mwith\u001b[0m \u001b[0mopen\u001b[0m\u001b[1;33m(\u001b[0m\u001b[1;34m'output.txt'\u001b[0m\u001b[1;33m,\u001b[0m \u001b[1;34m'w'\u001b[0m\u001b[1;33m)\u001b[0m \u001b[1;32mas\u001b[0m \u001b[0mfilehandle\u001b[0m\u001b[1;33m:\u001b[0m\u001b[1;33m\u001b[0m\u001b[1;33m\u001b[0m\u001b[0m\n\u001b[1;32m----> 4\u001b[1;33m     \u001b[0mjson\u001b[0m\u001b[1;33m.\u001b[0m\u001b[0mdump\u001b[0m\u001b[1;33m(\u001b[0m\u001b[0mrecords1\u001b[0m\u001b[1;33m,\u001b[0m \u001b[0mfilehandle\u001b[0m\u001b[1;33m)\u001b[0m\u001b[1;33m\u001b[0m\u001b[1;33m\u001b[0m\u001b[0m\n\u001b[0m",
      "\u001b[1;31mNameError\u001b[0m: name 'records1' is not defined"
     ]
    }
   ],
   "source": [
    "import json\n",
    "\n",
    "with open('output.txt', 'w') as filehandle:\n",
    "    json.dump(records1, filehandle)"
   ]
  },
  {
   "cell_type": "code",
   "execution_count": 22,
   "id": "60f7c2a5",
   "metadata": {},
   "outputs": [],
   "source": [
    "# https://jsonformatter.org/"
   ]
  },
  {
   "cell_type": "code",
   "execution_count": null,
   "id": "c3670f42",
   "metadata": {},
   "outputs": [],
   "source": []
  }
 ],
 "metadata": {
  "kernelspec": {
   "display_name": "Python 3 (ipykernel)",
   "language": "python",
   "name": "python3"
  },
  "language_info": {
   "codemirror_mode": {
    "name": "ipython",
    "version": 3
   },
   "file_extension": ".py",
   "mimetype": "text/x-python",
   "name": "python",
   "nbconvert_exporter": "python",
   "pygments_lexer": "ipython3",
   "version": "3.8.1"
  }
 },
 "nbformat": 4,
 "nbformat_minor": 5
}
