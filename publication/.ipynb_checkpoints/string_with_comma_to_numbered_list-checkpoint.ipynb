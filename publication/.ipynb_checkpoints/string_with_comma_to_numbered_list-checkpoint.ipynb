{
 "cells": [
  {
   "cell_type": "code",
   "execution_count": 1,
   "id": "fbb594d7",
   "metadata": {},
   "outputs": [
    {
     "name": "stdout",
     "output_type": "stream",
     "text": [
      "\"a\", \"b\", \"c\", \"d\"\n"
     ]
    }
   ],
   "source": [
    "# Function to convert a string to a list of strings\n",
    "def string_to_list(input_string):\n",
    "    return input_string.split(', ')\n",
    "\n",
    "# Function to format the list as a string with each element in quotes\n",
    "def format_list_to_string(input_list):\n",
    "    return ', '.join([f'\"{item}\"' for item in input_list])\n",
    "\n",
    "# Test the functions\n",
    "input_string = \"a, b, c, d\"\n",
    "list_output = string_to_list(input_string)\n",
    "formatted_string = format_list_to_string(list_output)\n",
    "\n",
    "print(formatted_string)"
   ]
  },
  {
   "cell_type": "code",
   "execution_count": 2,
   "id": "cc7c6585",
   "metadata": {},
   "outputs": [
    {
     "name": "stdout",
     "output_type": "stream",
     "text": [
      "\"Computer application\", \"Programming C++\", \"Operating systems\", \"Algorithms\", \"Advanced Programming\", \"Problem-solving using information systems\", \"Requirements engineering and analysis\", \"Advanced networking\", \"Database management systems\", \"Programming theory and applications\", \"Visual basic programming for engineering\", \"Web design and development\", \"Programming for engineers I\", \"Programming for engineers II\", \"Quantitative methods in technology\", \"Research methods in technology\", \"Research in educational services\", \"Computer Science I\", \"Computer Systems\", \"Computer Science III\", \"Data Science\", \"Competitive Programming\", \"Information Visualization\", \"Computer Security\", \"Independent Project in Computer Science\", \"and Independent Research.\"\n"
     ]
    }
   ],
   "source": [
    "input_string = \"Computer application, Programming C++, Operating systems, Algorithms, Advanced Programming, Problem-solving using information systems, Requirements engineering and analysis, Advanced networking, Database management systems, Programming theory and applications, Visual basic programming for engineering, Web design and development, Programming for engineers I, Programming for engineers II, Quantitative methods in technology, Research methods in technology, Research in educational services, Computer Science I, Computer Systems, Computer Science III, Data Science, Competitive Programming, Information Visualization, Computer Security, Independent Project in Computer Science, and Independent Research.\"\n",
    "\n",
    "list_output = string_to_list(input_string)\n",
    "formatted_string = format_list_to_string(list_output)\n",
    "\n",
    "print(formatted_string)"
   ]
  },
  {
   "cell_type": "code",
   "execution_count": 3,
   "id": "7d4e4319",
   "metadata": {},
   "outputs": [
    {
     "name": "stdout",
     "output_type": "stream",
     "text": [
      "(1) a, (2) b, (3) c, (4) d\n"
     ]
    }
   ],
   "source": [
    "# Function to convert input list of strings to the desired output format\n",
    "def convert_text(input_list):\n",
    "    return ', '.join([f\"({i+1}) {item}\" for i, item in enumerate(input_list)])\n",
    "\n",
    "# Test the function\n",
    "input_list = [\"a\", \"b\", \"c\", \"d\"]\n",
    "output = convert_text(input_list)\n",
    "print(output)"
   ]
  },
  {
   "cell_type": "code",
   "execution_count": 4,
   "id": "31a70fac",
   "metadata": {},
   "outputs": [
    {
     "name": "stdout",
     "output_type": "stream",
     "text": [
      "(1) Computer application, (2) Programming C++, (3) Operating systems, (4) Algorithms, (5) Advanced Programming, (6) Problem-solving using information systems, (7) Requirements engineering and analysis, (8) Advanced networking, (9) Database management systems, (10) Programming theory and applications, (11) Visual basic programming for engineering, (12) Web design and development, (13) Programming for engineers I, (14) Programming for engineers II, (15) Quantitative methods in technology, (16) Research methods in technology, (17) Research in educational services, (18) Computer Science I, (19) Computer Systems, (20) Computer Science III, (21) Data Science, (22) Competitive Programming, (23) Information Visualization, (24) Computer Security, (25) Independent Project in Computer Science, (26) and Independent Research.\n"
     ]
    }
   ],
   "source": [
    "# Test the function\n",
    "input_list = [\"Computer application\", \"Programming C++\", \"Operating systems\", \"Algorithms\", \"Advanced Programming\", \"Problem-solving using information systems\", \"Requirements engineering and analysis\", \"Advanced networking\", \"Database management systems\", \"Programming theory and applications\", \"Visual basic programming for engineering\", \"Web design and development\", \"Programming for engineers I\", \"Programming for engineers II\", \"Quantitative methods in technology\", \"Research methods in technology\", \"Research in educational services\", \"Computer Science I\", \"Computer Systems\", \"Computer Science III\", \"Data Science\", \"Competitive Programming\", \"Information Visualization\", \"Computer Security\", \"Independent Project in Computer Science\", \"and Independent Research.\"]\n",
    "output = convert_text(input_list)\n",
    "print(output)"
   ]
  },
  {
   "cell_type": "code",
   "execution_count": 5,
   "id": "cee168ee",
   "metadata": {},
   "outputs": [
    {
     "name": "stdout",
     "output_type": "stream",
     "text": [
      "\"Undergraduate courses: Programming for Engineers I (first offered in Summer 2018)\", \"Programming for Engineers II (first offered in Fall 2018)\", \"Android development tools for instrument control (Fall 2018)\", \"Research methods in technology (Summer 2019)\", \"Quantitative methods in technology (Fall 2019)\", \"and data science (Spring 2023).\"\n"
     ]
    }
   ],
   "source": [
    "input_string = \"Undergraduate courses: Programming for Engineers I (first offered in Summer 2018), Programming for Engineers II (first offered in Fall 2018), Android development tools for instrument control (Fall 2018), Research methods in technology (Summer 2019), Quantitative methods in technology (Fall 2019), and data science (Spring 2023).\"\n",
    "\n",
    "list_output = string_to_list(input_string)\n",
    "formatted_string = format_list_to_string(list_output)\n",
    "\n",
    "print(formatted_string)"
   ]
  },
  {
   "cell_type": "code",
   "execution_count": 6,
   "id": "1ff2c323",
   "metadata": {},
   "outputs": [
    {
     "name": "stdout",
     "output_type": "stream",
     "text": [
      "(1) Undergraduate courses: Programming for Engineers I (first offered in Summer 2018), (2) Programming for Engineers II (first offered in Fall 2018), (3) Android development tools for instrument control (Fall 2018), (4) Research methods in technology (Summer 2019), (5) Quantitative methods in technology (Fall 2019), (6) and data science (Spring 2023).\n"
     ]
    }
   ],
   "source": [
    "input_list = [\"Undergraduate courses: Programming for Engineers I (first offered in Summer 2018)\", \"Programming for Engineers II (first offered in Fall 2018)\", \"Android development tools for instrument control (Fall 2018)\", \"Research methods in technology (Summer 2019)\", \"Quantitative methods in technology (Fall 2019)\", \"and data science (Spring 2023).\"]\n",
    "output = convert_text(input_list)\n",
    "print(output)"
   ]
  },
  {
   "cell_type": "code",
   "execution_count": 7,
   "id": "1fa2af1f",
   "metadata": {},
   "outputs": [
    {
     "name": "stdout",
     "output_type": "stream",
     "text": [
      "\"Circuits\", \"Systems\", \"and Signal Processing (Springer)\", \"IEEE Transactions on Visualization and Computer Graphics (IEEE)\", \"IEEE Transactions on Information Forensics and Security (IEEE)\", \"Computers in Human Behavior Reports (Elsevier)\", \"Sensors (MDPI)\", \"Computers (MDPI)\", \"Algorithms (MDPI)\", \"Mathematics (MDPI)\", \"Electronics (MDPI)\", \"Future Internet (MDPI)\", \"Applied Sciences (MDPI)\", \"Annals of Telecommunications\", \"Springer International Publishing\", \"Axioms (MDPI)\", \"SoftwareX (Elsevier)\", \"Information Sciences (Elsevier)\"\n"
     ]
    }
   ],
   "source": [
    "input_string = \"Circuits, Systems, and Signal Processing (Springer), IEEE Transactions on Visualization and Computer Graphics (IEEE), IEEE Transactions on Information Forensics and Security (IEEE), Computers in Human Behavior Reports (Elsevier), Sensors (MDPI), Computers (MDPI), Algorithms (MDPI), Mathematics (MDPI), Electronics (MDPI), Future Internet (MDPI), Applied Sciences (MDPI), Annals of Telecommunications, Springer International Publishing, Axioms (MDPI), SoftwareX (Elsevier), Information Sciences (Elsevier)\"\n",
    "list_output = string_to_list(input_string)\n",
    "formatted_string = format_list_to_string(list_output)\n",
    "\n",
    "print(formatted_string)"
   ]
  },
  {
   "cell_type": "code",
   "execution_count": 8,
   "id": "fdb04cab",
   "metadata": {},
   "outputs": [
    {
     "name": "stdout",
     "output_type": "stream",
     "text": [
      "(1) Circuits, Systems, and Signal Processing (Springer), (2) IEEE Transactions on Visualization and Computer Graphics (IEEE), (3) IEEE Transactions on Information Forensics and Security (IEEE), (4) Computers in Human Behavior Reports (Elsevier), (5) Sensors (MDPI), (6) Computers (MDPI), (7) Algorithms (MDPI), (8) Mathematics (MDPI), (9) Electronics (MDPI), (10) Future Internet (MDPI), (11) Applied Sciences (MDPI), (12) Annals of Telecommunications, (13) Springer International Publishing, (14) Axioms (MDPI), (15) SoftwareX (Elsevier), (16) Information Sciences (Elsevier)\n"
     ]
    }
   ],
   "source": [
    "input_list = [\"Circuits, Systems, and Signal Processing (Springer)\", \"IEEE Transactions on Visualization and Computer Graphics (IEEE)\", \"IEEE Transactions on Information Forensics and Security (IEEE)\", \"Computers in Human Behavior Reports (Elsevier)\", \"Sensors (MDPI)\", \"Computers (MDPI)\", \"Algorithms (MDPI)\", \"Mathematics (MDPI)\", \"Electronics (MDPI)\", \"Future Internet (MDPI)\", \"Applied Sciences (MDPI)\", \"Annals of Telecommunications\", \"Springer International Publishing\", \"Axioms (MDPI)\", \"SoftwareX (Elsevier)\", \"Information Sciences (Elsevier)\"]\n",
    "output = convert_text(input_list)\n",
    "print(output)"
   ]
  },
  {
   "cell_type": "markdown",
   "id": "fcda3f40",
   "metadata": {},
   "source": [
    "#### working version"
   ]
  },
  {
   "cell_type": "code",
   "execution_count": null,
   "id": "87146437",
   "metadata": {},
   "outputs": [],
   "source": [
    "input_string = input()\n",
    "list_output = string_to_list(input_string)\n",
    "formatted_string = format_list_to_string(list_output)\n",
    "\n",
    "print(formatted_string)"
   ]
  }
 ],
 "metadata": {
  "kernelspec": {
   "display_name": "Python 3 (ipykernel)",
   "language": "python",
   "name": "python3"
  },
  "language_info": {
   "codemirror_mode": {
    "name": "ipython",
    "version": 3
   },
   "file_extension": ".py",
   "mimetype": "text/x-python",
   "name": "python",
   "nbconvert_exporter": "python",
   "pygments_lexer": "ipython3",
   "version": "3.8.1"
  }
 },
 "nbformat": 4,
 "nbformat_minor": 5
}
