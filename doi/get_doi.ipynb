{
 "cells": [
  {
   "cell_type": "code",
   "execution_count": 3,
   "id": "cc103ee0",
   "metadata": {},
   "outputs": [
    {
     "data": {
      "text/plain": [
       "'@inproceedings{Amiruzzaman_2008, title={Secure steganographic method}, url={http://dx.doi.org/10.1049/cp:20080298}, DOI={10.1049/cp:20080298}, booktitle={5th International Conference on Visual Information Engineering (VIE 2008)}, publisher={IEE}, author={Amiruzzaman, M. and Hyoung Joong Kim}, year={2008} }'"
      ]
     },
     "execution_count": 3,
     "metadata": {},
     "output_type": "execute_result"
    }
   ],
   "source": [
    "import requests\n",
    "\n",
    "def get_doi_bibtex(doi):\n",
    "    base_url = f\"https://doi.org/{doi}\"\n",
    "    headers = {\n",
    "        \"Accept\": \"text/bibliography; style=bibtex\"\n",
    "        }\n",
    "    response = requests.get(base_url, headers=headers)\n",
    "    \n",
    "    if response.status_code == 200:\n",
    "        return response.text.strip()\n",
    "    else:\n",
    "        print(response.status_code)\n",
    "    print(response.text)\n",
    "    return None\n",
    "\n",
    "get_doi_bibtex(\"10.1049/cp:20080298\")"
   ]
  },
  {
   "cell_type": "code",
   "execution_count": 5,
   "id": "6972e3da",
   "metadata": {},
   "outputs": [
    {
     "name": "stdout",
     "output_type": "stream",
     "text": [
      "Collecting habanero\n",
      "  Obtaining dependency information for habanero from https://files.pythonhosted.org/packages/18/3b/a24c9533cd2557ebca717e1e2b2a5485982d69dc8b609b2199eae20a6e22/habanero-1.2.6-py2.py3-none-any.whl.metadata\n",
      "  Downloading habanero-1.2.6-py2.py3-none-any.whl.metadata (14 kB)\n",
      "Requirement already satisfied: requests>=2.7.0 in c:\\users\\75mamiruzzam\\appdata\\local\\programs\\python\\python310\\lib\\site-packages (from habanero) (2.31.0)\n",
      "Requirement already satisfied: tqdm in c:\\users\\75mamiruzzam\\appdata\\local\\programs\\python\\python310\\lib\\site-packages (from habanero) (4.65.0)\n",
      "Requirement already satisfied: charset-normalizer<4,>=2 in c:\\users\\75mamiruzzam\\appdata\\local\\programs\\python\\python310\\lib\\site-packages (from requests>=2.7.0->habanero) (3.1.0)\n",
      "Requirement already satisfied: idna<4,>=2.5 in c:\\users\\75mamiruzzam\\appdata\\local\\programs\\python\\python310\\lib\\site-packages (from requests>=2.7.0->habanero) (3.4)\n",
      "Requirement already satisfied: urllib3<3,>=1.21.1 in c:\\users\\75mamiruzzam\\appdata\\local\\programs\\python\\python310\\lib\\site-packages (from requests>=2.7.0->habanero) (1.26.16)\n",
      "Requirement already satisfied: certifi>=2017.4.17 in c:\\users\\75mamiruzzam\\appdata\\local\\programs\\python\\python310\\lib\\site-packages (from requests>=2.7.0->habanero) (2023.5.7)\n",
      "Requirement already satisfied: colorama in c:\\users\\75mamiruzzam\\appdata\\local\\programs\\python\\python310\\lib\\site-packages (from tqdm->habanero) (0.4.4)\n",
      "Downloading habanero-1.2.6-py2.py3-none-any.whl (30 kB)\n",
      "Installing collected packages: habanero\n",
      "Successfully installed habanero-1.2.6\n"
     ]
    },
    {
     "name": "stderr",
     "output_type": "stream",
     "text": [
      "\n",
      "[notice] A new release of pip is available: 23.2.1 -> 24.2\n",
      "[notice] To update, run: python.exe -m pip install --upgrade pip\n"
     ]
    }
   ],
   "source": [
    "!pip install habanero"
   ]
  },
  {
   "cell_type": "code",
   "execution_count": 12,
   "id": "a78a3e52",
   "metadata": {},
   "outputs": [
    {
     "name": "stdout",
     "output_type": "stream",
     "text": [
      "10.1109/mmsp.2002.1203318\n"
     ]
    }
   ],
   "source": [
    "from habanero import Crossref\n",
    "cr = Crossref()\n",
    "result = cr.works(query = 'Minimum Distortion Data Hiding')\n",
    "doiurl = 'https://doi.org/' + result['message']['items'][0]['DOI']\n",
    "print(result['message']['items'][0]['DOI'])"
   ]
  },
  {
   "cell_type": "code",
   "execution_count": 11,
   "id": "6a1aad16",
   "metadata": {},
   "outputs": [
    {
     "data": {
      "text/plain": [
       "True"
      ]
     },
     "execution_count": 11,
     "metadata": {},
     "output_type": "execute_result"
    }
   ],
   "source": [
    "import webbrowser\n",
    "from tkinter import *\n",
    "\n",
    "root = Tk()\n",
    "root.title(\"WebBrowsers\")\n",
    "\n",
    "root.geometry(\"640x480\")\n",
    "\n",
    "webbrowser.open(doiurl)"
   ]
  },
  {
   "cell_type": "code",
   "execution_count": null,
   "id": "a17d0c83",
   "metadata": {},
   "outputs": [],
   "source": []
  },
  {
   "cell_type": "code",
   "execution_count": null,
   "id": "6a7b6dc6",
   "metadata": {},
   "outputs": [],
   "source": []
  },
  {
   "cell_type": "code",
   "execution_count": 8,
   "id": "b313c03f",
   "metadata": {},
   "outputs": [
    {
     "name": "stdout",
     "output_type": "stream",
     "text": [
      "10.1080/10590500600614303\n"
     ]
    }
   ],
   "source": [
    "from habanero import Crossref\n",
    "\n",
    "cr = Crossref()\n",
    "\n",
    "result = cr.works(query = 'An Evaluation of the Biological and Toxicological Properties of Aloe Barbadensis (Miller), Aloe Vera')\n",
    "\n",
    "print(result['message']['items'][0]['DOI'])"
   ]
  },
  {
   "cell_type": "code",
   "execution_count": 9,
   "id": "1b564bed",
   "metadata": {},
   "outputs": [
    {
     "data": {
      "text/plain": [
       "True"
      ]
     },
     "execution_count": 9,
     "metadata": {},
     "output_type": "execute_result"
    }
   ],
   "source": [
    "import webbrowser\n",
    "from tkinter import *\n",
    "\n",
    "root = Tk()\n",
    "root.title(\"WebBrowsers\")\n",
    "\n",
    "root.geometry(\"640x480\")\n",
    "\n",
    "webbrowser.open(\"https://stackoverflow.com/\")"
   ]
  },
  {
   "cell_type": "code",
   "execution_count": 13,
   "id": "3809a00c",
   "metadata": {},
   "outputs": [
    {
     "name": "stdout",
     "output_type": "stream",
     "text": [
      "404\n",
      "<!DOCTYPE html>\n",
      "<html lang=\"en-us\">\n",
      "<head>\n",
      "\n",
      "    <meta charset=\"UTF-8\">\n",
      "    <meta name=\"viewport\" content=\"width=device-width, initial-scale=1\">\n",
      "    <meta http-equiv=\"X-UA-Compatible\" content=\"IE=edge\">\n",
      "    <title>Error: DOI Not Found</title>\n",
      "\n",
      "\n",
      "\n",
      "    <link href=\"https://cdn.jsdelivr.net/npm/bootstrap@5.0.2/dist/css/bootstrap.min.css\"\n",
      "          rel=\"stylesheet\"\n",
      "          integrity=\"sha384-EVSTQN3/azprG1Anm3QDgpJLIm9Nao0Yz1ztcQTwFspd3yD65VohhpuuCOmLASjC\"\n",
      "          crossorigin=\"anonymous\">\n",
      "    <script\n",
      "            src=\"https://cdn.jsdelivr.net/npm/bootstrap@5.0.2/dist/js/bootstrap.bundle.min.js\"\n",
      "            integrity=\"sha384-MrcW6ZMFYlzcLA8Nl+NtUVF0sA7MsXsP1UyJoMp4YLEuNSfAP+JcXn/tWtIaxVXM\"\n",
      "            crossorigin=\"anonymous\">\n",
      "    </script>\n",
      "\n",
      "    <script src=\"https://kit.fontawesome.com/731b8140c4.js\" crossorigin=\"anonymous\"></script>\n",
      "\n",
      "    <link rel=\"stylesheet\" href=\"/static/css/style.css\" integrity=\"\">\n",
      "\n",
      "    <style>\n",
      "        @import url(\"https://fonts.googleapis.com/css2?family=Roboto+Mono&family=Roboto:wght@100&display=swap\");\n",
      "    </style>\n",
      "\n",
      "    <link rel=\"icon\" sizes=\"48x48\" href=\"/static/images/favicons/favicon.ico\">\n",
      "    <link rel=\"icon\" sizes=\"32x32\" href=\"/static/images/favicons/favicon-32x32.png\">\n",
      "    <link rel=\"icon\" sizes=\"16x16\" href=\"/static/images/favicons/favicon-16x16.png\">\n",
      "    <link rel=\"apple-touch-icon-precomposed\" href=\"/static/images/favicons/apple-touch-icon.png\">\n",
      "    <link rel=\"apple-touch-icon-precomposed\" sizes=\"192x192\" href=\"/static/images/favicons/android-chrome-192x192.png\">\n",
      "    <link rel=\"apple-touch-icon-precomposed\" sizes=\"512x512\" href=\"/static/images/favicons/android-chrome-512x512.png\">\n",
      "\n",
      "</head>\n",
      "<body class=\"generic-page\">\n",
      "<header>\n",
      "    <div class=\"row\">\n",
      "        <div class=\"col logo\">\n",
      "            <a href=\"https://www.doi.org\"><img class=\"header-logo\" src=\"/static/images/logos/header_logo_cropped.svg\" /></a>\n",
      "        </div>\n",
      "        <div class=\"col home-link\">\n",
      "            <div class=\"link-alt\">\n",
      "                <a href=\"https://www.doi.org\">\n",
      "                    <span>VISIT DOI.ORG</span>\n",
      "                    <i class=\"fa-solid fa-arrow-right-long hover-move-right\"></i>\n",
      "                </a>\n",
      "            </div>\n",
      "        </div>\n",
      "    </div>\n",
      "\n",
      "</header>\n",
      "\n",
      "\n",
      "<main aria-role=\"main\">\n",
      "    <header class=\"homepage-header\">\n",
      "    </header>\n",
      "    <div class=\"homepage-content\">\n",
      "\n",
      "        <section class=\"single-top\">\n",
      "            <div class=\"row short\"></div>\n",
      "        </section>\n",
      "\n",
      "        <div class=\"page-content\">\n",
      "            <article>\n",
      "                <div>\n",
      "                    <h2>DOI Not Found</h2>\n",
      "\n",
      "                    \n",
      "\n",
      "                    <h3>10.14257/ijmue.2010.5.3.01</h3>\n",
      "\n",
      "                    \n",
      "                    \n",
      "                    \n",
      "                    <p>This DOI cannot be found in the DOI System.  Possible reasons are:</p>\n",
      "                    \n",
      "\n",
      "                    <ul>\n",
      "                        <li style=\"padding-bottom: .5em;\">The DOI is incorrect in your source. Search for the item by name, title, or other metadata using a search engine.</li>\n",
      "                        <li style=\"padding-bottom: .5em;\">The DOI was copied incorrectly. Check to see that the string includes all the characters before and after the slash and no sentence punctuation marks.</li>\n",
      "                        <li style=\"padding-bottom: .5em;\">The DOI has not been activated yet. Please try again later, and report the problem if the error continues.</li>\n",
      "                    </ul>\n",
      "                    \n",
      "                    \n",
      "                </div>\n",
      "            </article>\n",
      "        </div>\n",
      "\n",
      "        <section class=\"home-infos\">\n",
      "            <div class=\"row\">\n",
      "                <div class=\"col \">\n",
      "                    <h2 class=\"title\">WHAT CAN I DO NEXT?</h2>\n",
      "                    <ul>\n",
      "                        <li>If you believe this DOI is valid, you may <strong>report this error</strong> to the responsible DOI Registration Agency using the form here.</li>\n",
      "                        <li>If your organization is the steward of this DOI prefix, please make sure you have completed registration of this DOI with your Registration Agency.</li>\n",
      "                        <li>You can try to search again from <a href=\"https://www.doi.org\">DOI.ORG homepage</a></li>\n",
      "                    </ul>\n",
      "                </div>\n",
      "                <div class=\"col form\">\n",
      "                    <h2 class=\"title\"><img src=\"/static/images/exclamation.svg\">REPORT AN ERROR</h2>\n",
      "                    <form action=\"/notfound\" method=\"post\" enctype=\"application/x-www-form-urlencoded\" name=\"notFoundForm\" onsubmit=\"return submitDoiNotFound(event);\">\n",
      "                        <div class=\"row\">\n",
      "                            <div class=\"col\"><label for=\"missingHandle\">DOI:</label></div>\n",
      "                            <div class=\"col\"><input id=\"missingHandle\" name=\"missingHandle\" value=\"10.14257/ijmue.2010.5.3.01\" type=\"text\" readonly=\"readonly\"></div>\n",
      "                        </div>\n",
      "                        <div class=\"row\">\n",
      "                            <div class=\"col\"><label for=\"referringPage\">URL of Web Page Listing the DOI:</label></div>\n",
      "                            <div class=\"col\"><input id=\"referringPage\" name=\"referringPage\" type=\"text\" ></div>\n",
      "                        </div>\n",
      "                        <div class=\"row\">\n",
      "                            <div class=\"col\"><label for=\"userEmailAddress\">Your Email Address:</label></div>\n",
      "                            <div class=\"col\"><input id=\"userEmailAddress\" name=\"userEmailAddress\" type=\"text\" /></div>\n",
      "                        </div>\n",
      "                        <div class=\"row\">\n",
      "                            <div class=\"col\"><label for=\"comments\">Additional Information About the Error:</label></div>\n",
      "                            <div class=\"col\"><textarea id=\"comments\" name=\"comments\"></textarea></div>\n",
      "                        </div>\n",
      "                        <div class=\"row\">\n",
      "                            <div class=\"col\"></div>\n",
      "                            <div class=\"col\"><input class=\"submit\" type=\"submit\" value=\"Submit Error Report\"></div>\n",
      "                        </div>\n",
      "                        <div class=\"row\">\n",
      "                            <p id=\"invalidDoi\" style=\"display: none; background:#F5B7B1; border-radius: 5px;\">The DOI entered is not a valid DOI: it should start with 10 followed by a dot, and contain a slash with no preceding whitespace.</p>\n",
      "                            <p id=\"invalidEmail\" style=\"display: none; background:#F5B7B1; border-radius: 5px;\">The email address entered is invalid.</p>\n",
      "                            <p id=\"fallback\" style=\"display: none;\">Please <a href=\"mailto:doi-help@doi.org?subject=DOI%20Not%20Found\">contact us</a> if you wish to report this anyway.</p>\n",
      "                        </div>\n",
      "                    </form>\n",
      "                </div>\n",
      "            </div>\n",
      "\n",
      "        </section>\n",
      "    </div>\n",
      "    \n",
      "    \n",
      "</main>\n",
      "\n",
      "<footer>\n",
      "    <div class=\"row\">\n",
      "        <div class=\"col footer-left\">\n",
      "            <a href=\"https://www.doi.org\"><img class=\"footer-logo\" src=\"/static/images/logos/footer_logo_cropped.svg\" /></a>\n",
      "        </div>\n",
      "        <div class=\"col footer-right\">\n",
      "            <div class=\"row more-info-heading\">\n",
      "                <div class=\"col\">\n",
      "                    <h2>More information on DOI resolution:</h2>\n",
      "                </div>\n",
      "            </div>\n",
      "            <div class=\"row\">\n",
      "                <div class=\"col\">\n",
      "                    <ul>\n",
      "                        <li><a href=\"https://www.doi.org/the-identifier/resources/factsheets/doi-resolution-documentation\">DOI Resolution Factsheet</a></li>\n",
      "                    </ul>\n",
      "                </div>\n",
      "                <div class=\"col\">\n",
      "                    <ul>\n",
      "                        <li><a href=\"https://www.doi.org/the-identifier/resources/handbook\">The DOI Handbook</a></li>\n",
      "                    </ul>\n",
      "                </div>\n",
      "                <div class=\"col\">\n",
      "                    <ul>\n",
      "                        <li><a href=\"https://www.doi.org/privacy-policy/\">Privacy Policy</a></li>\n",
      "                    </ul>\n",
      "                </div>\n",
      "            </div>\n",
      "        </div>\n",
      "\n",
      "    </div>\n",
      "    <div class=\"row\">\n",
      "        <div class=\"col copyright\">\n",
      "            <p>Copyright © 2023 DOI Foundation. <i class=\"fa-brands fa-fw fa-creative-commons\"></i><i class=\"fa-brands fa-fw fa-creative-commons-by\"></i> The content of this site is licensed under a <a href=\"https://creativecommons.org/licenses/by/4.0/\" title=\"Creative Commons\" target=\"_blank\">Creative Commons Attribution 4.0 International License</a>.</p><p>DOI&reg;, DOI.ORG&reg;, and shortDOI&reg; are trademarks of the DOI Foundation.</p>\n",
      "        </div>\n",
      "        <div class=\"col socials\">\n",
      "            <ul class=\"socials-footer\">\n",
      "\n",
      "                <li><a href=\"https://twitter.com/DOI_Foundation\"><i class=\"fa-brands fa-fw fa-twitter\"></i></a></li>\n",
      "\n",
      "                <li><a href=\"https://www.linkedin.com/company/doi-foundation-inc/\"><i class=\"fa-brands fa-fw fa-linkedin\"></i></a></li>\n",
      "\n",
      "                <li><a href=\"mailto:info@doi.org\"><i class=\"fa-solid fa-fw fa-envelope\"></i></a></li>\n",
      "\n",
      "            </ul>\n",
      "        </div>\n",
      "    </div>\n",
      "</footer>\n",
      "\n",
      "<script type=\"text/javascript\">\n",
      "    function submitDoiNotFound(event) {\n",
      "        try {\n",
      "            document.getElementById(\"invalidEmail\").style.display = \"none\";\n",
      "            document.getElementById(\"invalidDoi\").style.display = \"none\";\n",
      "            document.getElementById(\"fallback\").style.display = \"none\";\n",
      "\n",
      "            const missingHandle = document.getElementById('missingHandle').value.trim();\n",
      "            const userEmailAddress = document.getElementById('userEmailAddress').value.trim();\n",
      "\n",
      "            if (!validateDoi(missingHandle)) {\n",
      "                event.preventDefault();\n",
      "                document.getElementById(\"invalidDoi\").style.display = \"block\";\n",
      "                document.getElementById(\"fallback\").style.display = \"block\";\n",
      "                return false;\n",
      "            }\n",
      "            if (!validateEmail(userEmailAddress)) {\n",
      "                event.preventDefault();\n",
      "                document.getElementById(\"invalidEmail\").style.display = \"block\";\n",
      "                return false;\n",
      "            }\n",
      "        } catch (error) {\n",
      "            // ignore\n",
      "        }\n",
      "    }\n",
      "\n",
      "    function validateEmail(email) {\n",
      "        const regEx = /^[^\\s@]+@[^\\s@]+\\.[^\\s@]+$/;\n",
      "        return regEx.test(email);\n",
      "    }\n",
      "\n",
      "    function validateDoi(doi) {\n",
      "        const regEx = /^10(?:\\.[^\\s\\/]+)?\\//;\n",
      "        return regEx.test(doi);\n",
      "    }\n",
      "</script>\n",
      "\n",
      "</body>\n",
      "</html>\n",
      "\n"
     ]
    }
   ],
   "source": [
    "import requests\n",
    "\n",
    "def get_doi_bibtex(doi):\n",
    "    base_url = f\"https://doi.org/{doi}\"\n",
    "    headers = {\n",
    "        \"Accept\": \"text/bibliography; style=bibtex\"\n",
    "        }\n",
    "    response = requests.get(base_url, headers=headers)\n",
    "    \n",
    "    if response.status_code == 200:\n",
    "        return response.text.strip()\n",
    "    else:\n",
    "        print(response.status_code)\n",
    "    print(response.text)\n",
    "    return None\n",
    "\n",
    "get_doi_bibtex(\"10.14257/ijmue.2010.5.3.01\")\n",
    "\n"
   ]
  },
  {
   "cell_type": "code",
   "execution_count": 14,
   "id": "1cdaf4cf",
   "metadata": {},
   "outputs": [
    {
     "name": "stdout",
     "output_type": "stream",
     "text": [
      "https://academic.oup.com/\n"
     ]
    }
   ],
   "source": [
    "import requests\n",
    "from urllib.parse import urlparse\n",
    "  \n",
    "URL = \"https://doi.org/10.1093/qje/qjr041\" # Specify the DOI here\n",
    "r = requests.get(URL,allow_redirects=True) # Redirects help follow to the actual domain\n",
    "parsed_uri = urlparse(r.url) #url parse to get the scheme and domain name \n",
    "result = '{uri.scheme}://{uri.netloc}/'.format(uri=parsed_uri)\n",
    "print(result) # printing the result\n"
   ]
  },
  {
   "cell_type": "code",
   "execution_count": null,
   "id": "7f0c3042",
   "metadata": {},
   "outputs": [],
   "source": []
  }
 ],
 "metadata": {
  "kernelspec": {
   "display_name": "Python 3 (ipykernel)",
   "language": "python",
   "name": "python3"
  },
  "language_info": {
   "codemirror_mode": {
    "name": "ipython",
    "version": 3
   },
   "file_extension": ".py",
   "mimetype": "text/x-python",
   "name": "python",
   "nbconvert_exporter": "python",
   "pygments_lexer": "ipython3",
   "version": "3.10.2"
  }
 },
 "nbformat": 4,
 "nbformat_minor": 5
}
